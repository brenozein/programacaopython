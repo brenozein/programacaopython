{
  "nbformat": 4,
  "nbformat_minor": 0,
  "metadata": {
    "colab": {
      "provenance": []
    },
    "kernelspec": {
      "name": "python3",
      "display_name": "Python 3"
    },
    "language_info": {
      "name": "python"
    }
  },
  "cells": [
    {
      "cell_type": "markdown",
      "source": [
        "Exercício 1: Criando um dicionário com tupla\n",
        "Crie um dicionário chamado aluno com os seguintes dados:\n",
        "nome: \"Lucas\"\n",
        "idade: 17\n",
        "cursos: uma tupla com os cursos \"Matemática\" e \"Python Básico\"\n",
        "Depois, mostre os dados na tela, incluindo o segundo curso da tupla."
      ],
      "metadata": {
        "id": "1v2IxJZR-RmZ"
      }
    },
    {
      "cell_type": "code",
      "execution_count": 1,
      "metadata": {
        "colab": {
          "base_uri": "https://localhost:8080/"
        },
        "id": "cXOq3UHVbUzX",
        "outputId": "7c279ad3-fa99-4094-a498-ef3a9cd6f3da"
      },
      "outputs": [
        {
          "output_type": "stream",
          "name": "stdout",
          "text": [
            "Nome: Lucas\n",
            "Idade: 17\n",
            "Cursos: ('Matemática', 'Python Básico')\n",
            "Segundo curso: Python Básico\n"
          ]
        }
      ],
      "source": [
        "aluno = {\n",
        "    \"nome\": \"Lucas\",\n",
        "    \"idade\": 17,\n",
        "    \"cursos\": (\"Matemática\", \"Python Básico\")\n",
        "}\n",
        "\n",
        "print(f\"Nome: {aluno['nome']}\")\n",
        "print(f\"Idade: {aluno['idade']}\")\n",
        "print(f\"Cursos: {aluno['cursos']}\")\n",
        "print(f\"Segundo curso: {aluno['cursos'][1]}\")\n"
      ]
    },
    {
      "cell_type": "markdown",
      "source": [
        "Exercício 2: Acessando dados da tupla\n",
        "Utilize o dicionário do exercício anterior para mostrar apenas:\n",
        "O nome do aluno\n",
        "O primeiro curso da tupla"
      ],
      "metadata": {
        "id": "139Eo_TM-wJg"
      }
    },
    {
      "cell_type": "code",
      "source": [
        "aluno = {\n",
        "    \"nome\": \"Lucas\",\n",
        "    \"idade\": 17,\n",
        "    \"cursos\": (\"Matemática\", \"Python Básico\")\n",
        "}\n",
        "\n",
        "print(f\"Nome: {aluno['nome']}\")\n",
        "print(f\"Primeiro curso: {aluno['cursos'][0]}\")\n"
      ],
      "metadata": {
        "colab": {
          "base_uri": "https://localhost:8080/"
        },
        "id": "bjAPGoVn-ydp",
        "outputId": "176e96ad-eda0-4007-b5b6-678da3f87877"
      },
      "execution_count": 3,
      "outputs": [
        {
          "output_type": "stream",
          "name": "stdout",
          "text": [
            "Nome: Lucas\n",
            "Primeiro curso: Matemática\n"
          ]
        }
      ]
    },
    {
      "cell_type": "markdown",
      "source": [
        "Exercício 3: Alterando valores e adicionando chave com\n",
        "tupla\n",
        "No dicionário aluno , faça:\n",
        "Altere a idade para 18\n",
        "Adicione a chave \"disciplinas_favoritas\" com uma tupla: \"Python\" e \"Algoritmos\"\n",
        "\n",
        "\n",
        "Depois, exiba o dicionário completo."
      ],
      "metadata": {
        "id": "lTw8dsQM-_do"
      }
    },
    {
      "cell_type": "code",
      "source": [
        "aluno = {\n",
        "    \"nome\": \"Lucas\",\n",
        "    \"idade\": 17,\n",
        "    \"cursos\": (\"Matemática\", \"Python Básico\")\n",
        "}\n",
        "\n",
        "aluno[\"idade\"] = 18\n",
        "aluno[\"disciplinas_favoritas\"] = (\"Python\", \"Algoritmos\")\n",
        "\n",
        "aluno\n"
      ],
      "metadata": {
        "colab": {
          "base_uri": "https://localhost:8080/"
        },
        "id": "Eggjsewh_H3A",
        "outputId": "5e8d381e-8792-475b-923b-37431d8ef15a"
      },
      "execution_count": 4,
      "outputs": [
        {
          "output_type": "execute_result",
          "data": {
            "text/plain": [
              "{'nome': 'Lucas',\n",
              " 'idade': 18,\n",
              " 'cursos': ('Matemática', 'Python Básico'),\n",
              " 'disciplinas_favoritas': ('Python', 'Algoritmos')}"
            ]
          },
          "metadata": {},
          "execution_count": 4
        }
      ]
    },
    {
      "cell_type": "markdown",
      "source": [
        "Exercício 4: Usando .get() para acesso seguro\n",
        "Tente acessar a chave \"nota_final\" do dicionário usando o método .get() .\n",
        "Caso a chave não exista, exiba a mensagem \"Nota ainda não cadastrada.\"\n",
        "📌 Dica: .get(\"chave\", \"mensagem padrão\") evita erros se a chave não existir."
      ],
      "metadata": {
        "id": "JMEfL789_bng"
      }
    },
    {
      "cell_type": "code",
      "source": [
        "aluno = {\n",
        "    \"nome\": \"Lucas\",\n",
        "    \"idade\": 17,\n",
        "    \"cursos\": (\"Matemática\", \"Python Básico\")\n",
        "}\n",
        "\n",
        "aluno[\"idade\"] = 18\n",
        "aluno[\"disciplinas_favoritas\"] = (\"Python\", \"Algoritmos\")\n",
        "\n",
        "nota = aluno.get(\"nota_final\", \"Nota ainda não cadastrada.\")\n",
        "nota\n"
      ],
      "metadata": {
        "colab": {
          "base_uri": "https://localhost:8080/",
          "height": 35
        },
        "id": "3KZ6CZp4_c-A",
        "outputId": "2af300c7-8a9a-41e9-e6e7-a2578c83d526"
      },
      "execution_count": 7,
      "outputs": [
        {
          "output_type": "execute_result",
          "data": {
            "text/plain": [
              "'Nota ainda não cadastrada.'"
            ],
            "application/vnd.google.colaboratory.intrinsic+json": {
              "type": "string"
            }
          },
          "metadata": {},
          "execution_count": 7
        }
      ]
    },
    {
      "cell_type": "markdown",
      "source": [
        "Exercício 5: Remover chave com del\n",
        "Remova a chave \"disciplinas_favoritas\" do dicionário.\n",
        "Depois, mostre o dicionário atualizado."
      ],
      "metadata": {
        "id": "zkzR6K_U_0mY"
      }
    },
    {
      "cell_type": "code",
      "source": [
        "del aluno[\"disciplinas_favoritas\"]\n",
        "\n",
        "print(aluno)"
      ],
      "metadata": {
        "id": "qh6qryEA_6dx"
      },
      "execution_count": null,
      "outputs": []
    },
    {
      "cell_type": "markdown",
      "source": [
        "Exercício 6: Lista de compras com tupla\n",
        "Crie uma tupla de produtos com três itens.\n",
        "Depois, crie um dicionário compras onde:\n",
        "Cada produto da tupla é uma chave\n",
        "O valor é a quantidade comprada\n",
        "Percorra a tupla e mostre quantos itens de cada produto foram comprados."
      ],
      "metadata": {
        "id": "9ULWj55yDKxy"
      }
    },
    {
      "cell_type": "code",
      "source": [
        "\n",
        "\n",
        "produtos = (\"arroz\", \"batata\", \"carne\")\n",
        "compras = {}\n",
        "\n",
        "compras[produtos[0]] = 2\n",
        "compras[produtos[1]] = 1\n",
        "compras[produtos[2]] = 3\n",
        "\n",
        "for produto in produtos:\n",
        "  print(f\"Foram comprados {compras[produto]} unidades de {produto}.\")\n"
      ],
      "metadata": {
        "colab": {
          "base_uri": "https://localhost:8080/"
        },
        "id": "Mq7iqSk3DVcg",
        "outputId": "d3fee17a-378f-4369-aad6-92c6bf66f00b"
      },
      "execution_count": 11,
      "outputs": [
        {
          "output_type": "stream",
          "name": "stdout",
          "text": [
            "Foram comprados 2 unidades de arroz.\n",
            "Foram comprados 1 unidades de batata.\n",
            "Foram comprados 3 unidades de carne.\n"
          ]
        }
      ]
    },
    {
      "cell_type": "markdown",
      "source": [
        "Exercício 7: Lista de alunos (com notas em tupla)\n",
        "Crie uma lista turma com 3 dicionários, um para cada aluno.\n",
        "Cada dicionário deve conter:\n",
        "nome\n",
        "idade\n",
        "notas : tupla com duas notas\n",
        "Percorra a lista e mostre o nome de cada aluno e sua média de notas."
      ],
      "metadata": {
        "id": "NmD2_fdhDpho"
      }
    },
    {
      "cell_type": "code",
      "source": [
        "turma = [\n",
        "    {\"nome\": \"Alice\", \"idade\": 15, \"notas\": (8, 7)},\n",
        "    {\"nome\": \"Bob\", \"idade\": 16, \"notas\": (9, 6)},\n",
        "    {\"nome\": \"Charlie\", \"idade\": 17, \"notas\": (7, 8)}\n",
        "]\n",
        "\n",
        "for aluno in turma:\n",
        "  media = sum(aluno[\"notas\"]) / len(aluno[\"notas\"])\n",
        "  print(f\"Nome: {aluno['nome']}, Média: {media}\")\n"
      ],
      "metadata": {
        "colab": {
          "base_uri": "https://localhost:8080/"
        },
        "id": "46K6IZn0Dsq6",
        "outputId": "69acf129-5936-45e5-b88b-7a1677329a8f"
      },
      "execution_count": 12,
      "outputs": [
        {
          "output_type": "stream",
          "name": "stdout",
          "text": [
            "Nome: Alice, Média: 7.5\n",
            "Nome: Bob, Média: 7.5\n",
            "Nome: Charlie, Média: 7.5\n"
          ]
        }
      ]
    },
    {
      "cell_type": "markdown",
      "source": [
        "Exercício 8: Média geral da turma\n",
        "Usando os dados da lista turma , calcule a média geral das notas de todos os\n",
        "alunos juntos."
      ],
      "metadata": {
        "id": "Py-RqXPvD25I"
      }
    },
    {
      "cell_type": "code",
      "source": [
        "soma_notas = 0\n",
        "total_notas = 0\n",
        "\n",
        "for aluno in turma:\n",
        "  soma_notas += sum(aluno[\"notas\"])\n",
        "  total_notas += len(aluno[\"notas\"])\n",
        "\n",
        "media_geral = soma_notas / total_notas\n",
        "print(f\"A média geral da turma é: {media_geral}\")\n"
      ],
      "metadata": {
        "colab": {
          "base_uri": "https://localhost:8080/"
        },
        "id": "TIqUg-wbD53x",
        "outputId": "4096888a-4257-44d9-9e73-c8ac89b5401e"
      },
      "execution_count": 13,
      "outputs": [
        {
          "output_type": "stream",
          "name": "stdout",
          "text": [
            "A média geral da turma é: 7.5\n"
          ]
        }
      ]
    },
    {
      "cell_type": "markdown",
      "source": [
        "Exercício 9: Maior nota da turma\n",
        "Percorra os alunos e descubra quem tirou a maior nota individual (de qualquer\n",
        "posição da tupla).\n",
        "Mostre o nome do aluno e o valor da nota."
      ],
      "metadata": {
        "id": "UqUL6SrLEFVm"
      }
    },
    {
      "cell_type": "code",
      "source": [
        "turma = [\n",
        "    {\"nome\": \"Matheus\", \"idade\": 15, \"notas\": (8, 7)},\n",
        "    {\"nome\": \"Bruna\", \"idade\": 16, \"notas\": (9, 6)},\n",
        "    {\"nome\": \"Charlie\", \"idade\": 17, \"notas\": (7, 8)}\n",
        "]\n",
        "\n",
        "maior_nota = 0\n",
        "aluno_maior_nota = \"\"\n",
        "\n",
        "for aluno in turma:\n",
        "  for nota in aluno[\"notas\"]:\n",
        "    if nota > maior_nota:\n",
        "      maior_nota = nota\n",
        "      aluno_maior_nota = aluno[\"nome\"]\n",
        "\n",
        "print(f\"O aluno com a maior nota é {aluno_maior_nota} com nota {maior_nota}\")\n"
      ],
      "metadata": {
        "colab": {
          "base_uri": "https://localhost:8080/"
        },
        "id": "1gY7yMwQEHsQ",
        "outputId": "be164230-352d-4cd8-f27b-afd965ede476"
      },
      "execution_count": 14,
      "outputs": [
        {
          "output_type": "stream",
          "name": "stdout",
          "text": [
            "O aluno com a maior nota é Bruna com nota 9\n"
          ]
        }
      ]
    },
    {
      "cell_type": "markdown",
      "source": [
        "Exercício 10: DESAFIO – Mini sistema de\n",
        "biblioteca com tuplas\n",
        "Crie um pequeno programa onde o usuário possa cadastrar livros, sendo que\n",
        "cada livro deve conter:\n",
        "título\n",
        "autor\n",
        "ano de publicação\n",
        "📌 Cada livro será salvo como uma tupla: (título, autor, ano)\n",
        "Todos os livros devem ser guardados em uma lista chamada biblioteca .\n",
        "Ao final, exiba todos os livros cadastrados no formato:\n",
        "Livros cadastrados:\n",
        "1. Título: Dom Casmurro | Autor: Machado de Assis | Ano: 1899\n",
        "2. ..."
      ],
      "metadata": {
        "id": "b2MPmoonEPtJ"
      }
    },
    {
      "cell_type": "code",
      "source": [
        "biblioteca = []\n",
        "\n",
        "while True:\n",
        "  titulo = input(\"Digite o título do livro (ou deixe em branco para sair): \")\n",
        "  if not titulo:\n",
        "    break\n",
        "  autor = input(\"Digite o autor do livro: \")\n",
        "  ano = int(input(\"Digite o ano de publicação do livro: \"))\n",
        "  livro = (titulo, autor, ano)\n",
        "  biblioteca.append(livro)\n",
        "\n",
        "print(\"Livros cadastrados:\")\n",
        "for i, livro in enumerate(biblioteca):\n",
        "  print(f\"{i+1}. Título: {livro[0]} | Autor: {livro[1]} | Ano: {livro[2]}\")\n"
      ],
      "metadata": {
        "colab": {
          "base_uri": "https://localhost:8080/"
        },
        "id": "4u2YAJInEk3g",
        "outputId": "33fb85f6-9d98-48ee-f55e-755a89064c5d"
      },
      "execution_count": 15,
      "outputs": [
        {
          "output_type": "stream",
          "name": "stdout",
          "text": [
            "Digite o título do livro (ou deixe em branco para sair): Alice no País das Maravilhas\n",
            "Digite o autor do livro: Pedro Eduardo\n",
            "Digite o ano de publicação do livro: 1914\n",
            "Digite o título do livro (ou deixe em branco para sair): \n",
            "Livros cadastrados:\n",
            "1. Título: Alice no País das Maravilhas | Autor: Pedro Eduardo | Ano: 1914\n"
          ]
        }
      ]
    }
  ]
}