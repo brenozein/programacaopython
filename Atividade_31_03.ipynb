{
  "nbformat": 4,
  "nbformat_minor": 0,
  "metadata": {
    "colab": {
      "provenance": []
    },
    "kernelspec": {
      "name": "python3",
      "display_name": "Python 3"
    },
    "language_info": {
      "name": "python"
    }
  },
  "cells": [
    {
      "cell_type": "markdown",
      "source": [
        "# Cadastro de CPF\n",
        "# Crie um programa para cadastro de CPF de clientes que recebe o CPF em um input box apenas com números.\n",
        "# Ex: 'Insira seu CPF (digite apenas números)'\n",
        "# Caso o usuário digite algo diferente de números ou digite menos de 11 caracteres (tamanho do CPF brasileiro), o programa deve exibir uma mensagem de \"Digite seu CPF corretamente e digite apenas números\""
      ],
      "metadata": {
        "id": "xQ-LF4qoWxz2"
      }
    },
    {
      "cell_type": "code",
      "source": [
        "\n",
        "cpf = input('Insira seu CPF (digite apenas números)')\n",
        "if len(cpf) == 11:\n",
        "    print(cpf)\n",
        "else :\n",
        "    print('Digite seu CPF corretamente e digite apenas números')"
      ],
      "metadata": {
        "colab": {
          "base_uri": "https://localhost:8080/"
        },
        "id": "2Aw7IdsNWz_d",
        "outputId": "861ff49d-fad5-4cbe-9995-e4e6b434cb22"
      },
      "execution_count": null,
      "outputs": [
        {
          "output_type": "stream",
          "name": "stdout",
          "text": [
            "Insira seu CPF (digite apenas números)45217896325\n",
            "45217896325\n"
          ]
        }
      ]
    },
    {
      "cell_type": "markdown",
      "source": [
        "2. Melhorando nosso Cadastro de CPF\n",
        "# Agora, além das validações anteriores, vamos criar um input que permita que o usuário insira pontos, traços e inclusive espaços vazios.\n",
        "# Nosso programa deve \"tratar\" o que o usuário inserir para padronizar o CPF dele em apenas números.\n",
        "# A verificação de tamanho do CPF com 11 caracteres continua válida, mas ela só deve ser feita depois de retirar todos os pontos, traços e espaços do CPF que o cliente inserir e, uma vez retirados pontos, traços e espaços, devem sobrar apenas números no CPF. Qualquer outro caractere deve ser considerado inválido.\n",
        "# No final, nosso programa deve exibir uma mensagem para o usuário, caso ele tenha inserido o CPF inválido ou então apenas deve printar o CPF correto já só com número."
      ],
      "metadata": {
        "id": "3qGyCVs5X4rN"
      }
    },
    {
      "cell_type": "code",
      "source": [
        "cpf = input('Insira seu CPF (digite com pontos e traço) ')\n",
        "cpf = cpf.strip()\n",
        "cpf = cpf.replace('.', '')\n",
        "cpf = cpf.replace('-', '')\n",
        "if len(cpf) == 11:\n",
        "    print(cpf)\n",
        "else :\n",
        "    print('Digite seu CPF corretamente e digite apenas números')"
      ],
      "metadata": {
        "colab": {
          "base_uri": "https://localhost:8080/"
        },
        "id": "QV9ebXszX80c",
        "outputId": "38c8388f-e424-4534-acc9-6d88458b02aa"
      },
      "execution_count": null,
      "outputs": [
        {
          "output_type": "stream",
          "name": "stdout",
          "text": [
            "Insira seu CPF (digite com pontos e traço) 417.258.369-02\n",
            "41725836902\n"
          ]
        }
      ]
    },
    {
      "cell_type": "markdown",
      "source": [
        " 3. Cadastro de e-mails\n",
        "# O SENAI sempre se comunica com seus clientes por e-mail. Para isso, a gente tem em cada página um cadastro de nome e e-mail. Nesse cadastro, nosso sistema verifica se o e-mail que a pessoa inseriu é um e-mail válido, verificando se ele tem '@' e se depois do '@' tem algum ponto, afinal:\n",
        "# liragmail.com NÃO é um e-mail válido\n",
        "# lira@gmail NÃO é um e-mail válido\n",
        "# lira@gmail.com é um e-mail válido\n",
        "# Crie um programa que permita o cadastro de nome e e-mail de uma pessoa (por meio de inputs) e que verifique:\n",
        "# Se nome e e-mail foram preenchidos, caso contrário ele deve avisar para preencher todos os dados corretamente\n",
        "# Se o e-mail contém '@' e se depois do '@' existe algum '.', caso contrário ele deve exibir uma mensagem de e-mail inválido\n",
        "# Obs: Pode te ajudar lembrar do método .find da aula de Métodos de String. Você pode testar o que ele dá como resposta caso ele não encontre um item dentro da string\n"
      ],
      "metadata": {
        "id": "KCCjGb43aDFV"
      }
    },
    {
      "cell_type": "code",
      "source": [
        "email = input('Insira seu e-mail: ')\n",
        "nome = input('Insira seu nome: ')\n",
        "if nome and email:\n",
        "    pos_a = email.find('@')\n",
        "    servidor = email[pos_a:]\n",
        "    if pos_a != -1 and '.' in servidor:\n",
        "        print('Cadastro concluído')\n",
        "    else:\n",
        "        print('Email inválido')"
      ],
      "metadata": {
        "colab": {
          "base_uri": "https://localhost:8080/"
        },
        "id": "YpM1ZKpSaG-0",
        "outputId": "59c95771-3dd0-4053-8efd-e97dd5b5c971"
      },
      "execution_count": null,
      "outputs": [
        {
          "output_type": "stream",
          "name": "stdout",
          "text": [
            "Insira seu e-mail: brebre@gmail.com\n",
            "Insira seu nome: BreBre\n",
            "Cadastro concluído\n"
          ]
        }
      ]
    }
  ]
}