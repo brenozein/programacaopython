{
  "nbformat": 4,
  "nbformat_minor": 0,
  "metadata": {
    "colab": {
      "provenance": []
    },
    "kernelspec": {
      "name": "python3",
      "display_name": "Python 3"
    },
    "language_info": {
      "name": "python"
    }
  },
  "cells": [
    {
      "cell_type": "markdown",
      "source": [
        "**Exercício 1: Registro de Informações Pessoais**\n",
        "\n",
        "Desenvolva um programa em Python que solicite ao usuário que insira seu nome, sobrenome e idade. Em seguida, o programa deve exibir uma mensagem de boas-vindas contendo essas informações.\n",
        "\n",
        "Utilize os comandos print, input e variáveis para capturar e exibir os dados fornecidos pelo usuário."
      ],
      "metadata": {
        "id": "j6sjkzfeW5jb"
      }
    },
    {
      "cell_type": "code",
      "source": [
        "\n",
        "nome = input(\"Digite seu nome: \")\n",
        "sobrenome = input(\"Digite seu sobrenome: \")\n",
        "idade = input(\"Digite sua idade: \")\n",
        "\n",
        "print(f\"Bem-vindo(a), {nome} {sobrenome}! Você tem {idade} anos.\")\n"
      ],
      "metadata": {
        "id": "lWSwR3FJXKVk",
        "outputId": "daca1011-3e3a-4575-caca-b83af285ae57",
        "colab": {
          "base_uri": "https://localhost:8080/"
        }
      },
      "execution_count": null,
      "outputs": [
        {
          "output_type": "stream",
          "name": "stdout",
          "text": [
            "Digite seu nome: Breno\n",
            "Digite seu sobrenome: Zein\n",
            "Digite sua idade: 22\n",
            "Bem-vindo(a), Breno Zein! Você tem 22 anos.\n"
          ]
        }
      ]
    },
    {
      "cell_type": "markdown",
      "source": [
        "**Exercício 2: Calculadora de média**\n",
        "\n",
        "Crie um programa em Python que solicite ao usuário que insira as notas das três provas. Em seguida, o programa deve calcular a média dessas notas e exibir o resultado para o usuário.\n",
        "\n",
        "Certifique-se de utilizar os comandos print, input e variáveis para realizar a operação."
      ],
      "metadata": {
        "id": "VOn3GDxFXKwd"
      }
    },
    {
      "cell_type": "code",
      "source": [
        "\n",
        "nota1 = float(input(\"Digite a nota da primeira prova: \"))\n",
        "nota2 = float(input(\"Digite a nota da segunda prova: \"))\n",
        "nota3 = float(input(\"Digite a nota da terceira prova: \"))\n",
        "\n",
        "media = (nota1 + nota2 + nota3) / 3\n",
        "\n",
        "print(f\"A média das notas é: {media}\")\n"
      ],
      "metadata": {
        "id": "T_JqFzWqXK8O",
        "outputId": "64f0267b-4488-407d-bb67-a0d5ef2f7558",
        "colab": {
          "base_uri": "https://localhost:8080/"
        }
      },
      "execution_count": null,
      "outputs": [
        {
          "output_type": "stream",
          "name": "stdout",
          "text": [
            "Digite a nota da primeira prova: 5.6\n",
            "Digite a nota da segunda prova: 8.6\n",
            "Digite a nota da terceira prova: 9.0\n",
            "A média das notas é: 7.733333333333333\n"
          ]
        }
      ]
    },
    {
      "cell_type": "markdown",
      "source": [
        "### **Exercício 3: Conversor de Tempo**\n",
        ".\n",
        "Crie um programa em Python que solicite ao usuário um valor em **dias**. Em seguida, o programa deve converter esse valor para **horas, minutos e segundos** e exibir o resultado para o usuário."
      ],
      "metadata": {
        "id": "Me8YBXBhbpEE"
      }
    },
    {
      "cell_type": "code",
      "source": [
        "dia = int(input(\"Digite um valor em dias: \"))\n",
        "\n",
        "horas = dia * 24\n",
        "minutos = horas * 60\n",
        "segundos = minutos * 60\n",
        "\n",
        "print(f\"{dia} dias equivalem a {horas} horas, {minutos} minutos e {segundos} segundos.\")"
      ],
      "metadata": {
        "id": "1F3S5Z-Hb6el",
        "outputId": "e649ae4d-4ab0-4c83-a407-416db116f826",
        "colab": {
          "base_uri": "https://localhost:8080/"
        }
      },
      "execution_count": null,
      "outputs": [
        {
          "output_type": "stream",
          "name": "stdout",
          "text": [
            "Digite um valor em dias: 2\n",
            "2 dias equivalem a 48 horas, 2880 minutos e 172800 segundos.\n"
          ]
        }
      ]
    },
    {
      "cell_type": "markdown",
      "source": [
        "### **Exercício 4: Cadastro de Informações e Conversão de Idade**\n",
        "\n",
        "Crie um programa em Python que:\n",
        "\n",
        "1. Solicite ao usuário seu **nome, sobrenome e idade**.\n",
        "2. Converta a idade informada em diferentes unidades de tempo\n"
      ],
      "metadata": {
        "id": "KrDJEG0JeGtF"
      }
    },
    {
      "cell_type": "code",
      "source": [
        "nome = input(\"Digite seu nome:\")\n",
        "sobrenome = input(\"Digite seu sobrenome:\")\n",
        "idade = int(input(\"Digite sua idade:\"))\n",
        "\n",
        "meses = idade * 12\n",
        "dias = idade * 365\n",
        "horas = dias * 24\n",
        "minutos = horas * 60\n",
        "segundos = minutos * 60\n",
        "\n",
        "print(f\"Olá, {nome} {sobrenome}! Você tem {idade} anos, o que equivale a:\")\n",
        "print(f\"{meses} meses, {dias} dias, {horas} horas, {minutos} minutos e {segundos} segundos.\")\n"
      ],
      "metadata": {
        "id": "9QZgL15PePYF",
        "outputId": "c0c5b69d-1511-41a7-82cc-56d65626e249",
        "colab": {
          "base_uri": "https://localhost:8080/"
        }
      },
      "execution_count": null,
      "outputs": [
        {
          "output_type": "stream",
          "name": "stdout",
          "text": [
            "Digite seu nome:Breno\n",
            "Digite seu sobrenome:Zein\n",
            "Digite sua idade:22\n",
            "Olá, Breno Zein! Você tem 22 anos, o que equivale a:\n",
            "264 meses, 8030 dias, 192720 horas, 11563200 minutos e 693792000 segundos.\n"
          ]
        }
      ]
    },
    {
      "cell_type": "markdown",
      "source": [
        "### **Exercício 5: Conversor de Moeda**\n",
        "\n",
        "Crie um programa que solicite ao usuário um valor em **reais (R$)** e uma cotação do **dólar (USD)**. O programa deve converter o valor inserido para dólares e exibir o resultado."
      ],
      "metadata": {
        "id": "dxgzH8ddf_4l"
      }
    },
    {
      "cell_type": "code",
      "source": [
        "valor_reais = float(input(\"Digite um valor em reais (R$): \"))\n",
        "cotacao_dolar = float(input(\"Digite a cotação do dólar (USD): \"))\n",
        "\n",
        "valor_dolar = valor_reais / cotacao_dolar\n",
        "\n",
        "print(f\"O valor em dólar (USD) é: {valor_dolar:.2f}\")"
      ],
      "metadata": {
        "id": "LPAlho8TgC3d",
        "outputId": "60925bae-2f18-41f0-8e5b-3e3e2b34cd2d",
        "colab": {
          "base_uri": "https://localhost:8080/"
        }
      },
      "execution_count": null,
      "outputs": [
        {
          "output_type": "stream",
          "name": "stdout",
          "text": [
            "Digite um valor em reais (R$): 20\n",
            "Digite a cotação do dólar (USD): 5.85\n",
            "O valor em dólar (USD) é: 3.42\n"
          ]
        }
      ]
    },
    {
      "cell_type": "markdown",
      "source": [
        "### **Exercício 6: Cálculo do Tempo de Viagem**\n",
        "\n",
        "Crie um programa que solicite ao usuário a **distância em km** e a **velocidade média do veículo em km/h**. O programa deve calcular e exibir o **tempo estimado da viagem** em horas e minutos."
      ],
      "metadata": {
        "id": "sMjHDz_8h2bF"
      }
    },
    {
      "cell_type": "code",
      "source": [
        "\n",
        "distancia = float(input(\"Digite a distância da viagem (km): \"))\n",
        "velocidade = float(input(\"Digite a velocidade média (km/h): \"))\n",
        "\n",
        "tempo_horas = distancia / velocidade\n",
        "tempo_minutos = (tempo_horas - int(tempo_horas)) * 60\n",
        "\n",
        "print(f\"O tempo estimado de viagem é de aproximadamente {int(tempo_horas)} horas e {int(tempo_minutos)} minutos.\")\n"
      ],
      "metadata": {
        "id": "CvyanMZzh5Y0",
        "outputId": "f3335b85-1237-4510-9b47-6a43145a00b5",
        "colab": {
          "base_uri": "https://localhost:8080/"
        }
      },
      "execution_count": null,
      "outputs": [
        {
          "output_type": "stream",
          "name": "stdout",
          "text": [
            "Digite a distância da viagem (km): 300\n",
            "Digite a velocidade média (km/h): 80\n",
            "O tempo estimado de viagem é de aproximadamente 3 horas e 45 minutos.\n"
          ]
        }
      ]
    },
    {
      "cell_type": "markdown",
      "source": [
        "### **Exercício 7: Cálculo de Área e Perímetro de um Retângulo**\n",
        "\n",
        "Crie um programa que solicite a **largura** e **altura** de um retângulo e calcule sua **área** e **perímetro**."
      ],
      "metadata": {
        "id": "e5RxvPUGijFd"
      }
    },
    {
      "cell_type": "code",
      "source": [
        "\n",
        "largura = float(input(\"Digite a largura do retângulo (m): \"))\n",
        "altura = float(input(\"Digite a altura do retângulo (m): \"))\n",
        "\n",
        "area = largura * altura\n",
        "perimetro = 2 * (largura + altura)\n",
        "\n",
        "print(f\"Área: {area} m²\")\n",
        "print(f\"Perímetro: {perimetro} m\")\n"
      ],
      "metadata": {
        "id": "0UWHgtAcimA9",
        "outputId": "55b9a994-1d77-471a-8156-7f8d3c9e9f62",
        "colab": {
          "base_uri": "https://localhost:8080/"
        }
      },
      "execution_count": null,
      "outputs": [
        {
          "output_type": "stream",
          "name": "stdout",
          "text": [
            "Digite a largura do retângulo (m): 5\n",
            "Digite a altura do retângulo (m): 10\n",
            "Área: 50.0 m²\n",
            "Perímetro: 30.0 m\n"
          ]
        }
      ]
    },
    {
      "cell_type": "markdown",
      "source": [
        "### **Exercício 8: Cálculo do IMC**\n",
        "\n",
        "Crie um programa que solicite o **peso (kg)** e a **altura (m)** de uma pessoa, calcule o **Índice de Massa Corporal (IMC)** e classifique o resultado conforme a tabela do IMC"
      ],
      "metadata": {
        "id": "YIDdUhmeiv7t"
      }
    },
    {
      "cell_type": "code",
      "source": [
        "\n",
        "peso = float(input(\"Digite seu peso (kg): \"))\n",
        "altura = float(input(\"Digite sua altura (m): \"))\n",
        "\n",
        "imc = peso / (altura ** 2)\n",
        "\n",
        "if imc < 18.5:\n",
        "  classificacao = \"Abaixo do Peso\"\n",
        "elif imc < 25:\n",
        "  classificacao = \"Peso Normal\"\n",
        "elif imc < 30:\n",
        "  classificacao = \"Sobrepeso\"\n",
        "elif imc < 35:\n",
        "  classificacao = \"Obesidade Grau I\"\n",
        "elif imc < 40:\n",
        "  classificacao = \"Obesidade Grau II\"\n",
        "else:\n",
        "  classificacao = \"Obesidade Grau III\"\n",
        "\n",
        "print(f\"Seu IMC é {imc:.2f} - Classificação: {classificacao}\")\n"
      ],
      "metadata": {
        "id": "TKtzbGYliydF",
        "outputId": "f9b0feb6-c68e-4e75-d953-4fb48895f55c",
        "colab": {
          "base_uri": "https://localhost:8080/"
        }
      },
      "execution_count": null,
      "outputs": [
        {
          "output_type": "stream",
          "name": "stdout",
          "text": [
            "Digite seu peso (kg): 80\n",
            "Digite sua altura (m): 1.79\n",
            "Seu IMC é 24.97 - Classificação: Peso Normal\n"
          ]
        }
      ]
    },
    {
      "cell_type": "markdown",
      "source": [
        "### **Exercício 9: Cálculo do Troco**\n",
        "\n",
        "Crie um programa que solicite o **valor da compra** e o **valor pago pelo cliente**. O programa deve calcular e exibir o **troco a ser devolvido**."
      ],
      "metadata": {
        "id": "fFXVVTo_jVIe"
      }
    },
    {
      "cell_type": "code",
      "source": [
        "valor_compra = float(input(\"Digite o valor da compra: \"))\n",
        "valor_pago = float(input(\"Digite o valor pago: \"))\n",
        "\n",
        "troco = valor_pago - valor_compra\n",
        "\n",
        "print(f\"O troco a ser devolvido é R$ {troco:.2f}\")\n"
      ],
      "metadata": {
        "id": "r_SqB6umjbx9",
        "outputId": "e4b08b2a-43da-45c1-8717-1374fe3df614",
        "colab": {
          "base_uri": "https://localhost:8080/"
        }
      },
      "execution_count": null,
      "outputs": [
        {
          "output_type": "stream",
          "name": "stdout",
          "text": [
            "Digite o valor da compra: 50\n",
            "Digite o valor pago: 70.00\n",
            "O troco a ser devolvido é R$ 20.00\n"
          ]
        }
      ]
    },
    {
      "cell_type": "markdown",
      "source": [
        "### **Exercício 10: Conversor de Temperatura**\n",
        "\n",
        "Crie um programa que solicite uma **temperatura em graus Celsius (°C)** e a converta para **Fahrenheit (°F)**."
      ],
      "metadata": {
        "id": "oje27uQbkFZd"
      }
    },
    {
      "cell_type": "code",
      "source": [
        "celsius = float(input(\"Digite a temperatura em Celsius: \"))\n",
        "fahrenheit = (celsius * 9/5) + 32\n",
        "print(f\"{celsius}°C equivalem a {fahrenheit}°F\")\n"
      ],
      "metadata": {
        "id": "qO94qJjMkIT9",
        "outputId": "d042a800-7560-4f80-8a19-7b30058d2c3b",
        "colab": {
          "base_uri": "https://localhost:8080/"
        }
      },
      "execution_count": null,
      "outputs": [
        {
          "output_type": "stream",
          "name": "stdout",
          "text": [
            "Digite a temperatura em Celsius: 31\n",
            "31.0°C equivalem a 87.8°F\n"
          ]
        }
      ]
    }
  ]
}