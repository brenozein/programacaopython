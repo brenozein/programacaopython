{
  "nbformat": 4,
  "nbformat_minor": 0,
  "metadata": {
    "colab": {
      "provenance": []
    },
    "kernelspec": {
      "name": "python3",
      "display_name": "Python 3"
    },
    "language_info": {
      "name": "python"
    }
  },
  "cells": [
    {
      "cell_type": "markdown",
      "metadata": {
        "id": "F1Ik5NeluJQT"
      },
      "source": [
        "# Exercícios\n",
        "\n",
        "## 1. Criando um Registro de Hóspedes\n",
        "\n",
        "Digamos que você está criando o sistema para registrar a chegada de hóspedes em um hotel. No hotel, os hóspedes podem ter quartos com 1, 2, 3 e 4 pessoas. Seu sistema deve conseguir:\n",
        "\n",
        "1. Identificar quantas pessoas o hóspede que acabou de chegar vai ter no quarto (perguntando por meio de input)\n",
        "2. De acordo com a quantidade de pessoas do hóspede, ele deve fazer um for para perguntar o cpf e o nome de cada pessoa, a fim de registrá-la no quarto (2 inputs para cada pessoa, 1 para o cpf e outro para o nome)\n",
        "3. O seu programa então deve gerar uma lista com todas as pessoas que ficarão no quarto em que cada item dessa lista é o nome da pessoa e o cpf da pessoa, assim:"
      ]
    },
    {
      "cell_type": "raw",
      "metadata": {
        "id": "uigr45bQuJQY"
      },
      "source": [
        "quarto = [\n",
        "    ['João', 'cpf:00000000000'],\n",
        "    ['Julia', 'cpf:11111111111'],\n",
        "    ['Marcus', 'cpf:22222222222'],\n",
        "    ['Maria', 'cpf:33333333333'],\n",
        "]"
      ]
    },
    {
      "cell_type": "markdown",
      "metadata": {
        "id": "D-wNECCEuJQZ"
      },
      "source": [
        "- Para simplificar, não vamos nos preocupar com possibilidades de \"tentar colocar mais de 1 hóspede, digitar o cpf errado, etc. Nosso objetivo é treinar a criação de uma rotina de cadastro"
      ]
    },
    {
      "cell_type": "code",
      "execution_count": 1,
      "metadata": {
        "id": "yr8t51J5uJQa",
        "colab": {
          "base_uri": "https://localhost:8080/"
        },
        "outputId": "5b1b9d9d-9819-45bb-f292-9fa7461da8a2"
      },
      "outputs": [
        {
          "output_type": "stream",
          "name": "stdout",
          "text": [
            "Quantas pessoas ficarão no quarto? 2\n",
            "Digite o nome da pessoa 1: Breno\n",
            "Digite o CPF da pessoa 1: 4785236953\n",
            "Digite o nome da pessoa 2: Andressa\n",
            "Digite o CPF da pessoa 2: 43528905836\n",
            "\n",
            "Registro de hóspedes:\n",
            "Nome: Breno, CPF: 4785236953\n",
            "Nome: Andressa, CPF: 43528905836\n"
          ]
        }
      ],
      "source": [
        "num_pessoas = int(input(\"Quantas pessoas ficarão no quarto? \"))\n",
        "\n",
        "pessoas = []\n",
        "\n",
        "for i in range(num_pessoas):\n",
        "  nome = input(f\"Digite o nome da pessoa {i+1}: \")\n",
        "  cpf = input(f\"Digite o CPF da pessoa {i+1}: \")\n",
        "  pessoas.append((nome, cpf))\n",
        "\n",
        "print(\"\\nRegistro de hóspedes:\")\n",
        "for nome, cpf in pessoas:\n",
        "  print(f\"Nome: {nome}, CPF: {cpf}\")\n"
      ]
    },
    {
      "cell_type": "markdown",
      "metadata": {
        "id": "ru8-Q84huJQb"
      },
      "source": [
        "## 2. Análise de Vendas\n",
        "\n",
        "Nesse exercício vamos fazer uma \"análise simples\" de atingimento de Meta.\n",
        "\n",
        "Temos uma lista com os vendedores e os valores de vendas e queremos identificar (printar) quais os vendedores que bateram a meta e qual foi o valor que eles venderam."
      ]
    },
    {
      "cell_type": "code",
      "execution_count": 2,
      "metadata": {
        "id": "k1nxy07JuJQc",
        "colab": {
          "base_uri": "https://localhost:8080/"
        },
        "outputId": "a9b961cf-c399-42f9-db51-9d7f1c409308"
      },
      "outputs": [
        {
          "output_type": "stream",
          "name": "stdout",
          "text": [
            "O vendedor João bateu a meta com R$15000 em vendas\n",
            "O vendedor Julia bateu a meta com R$27000 em vendas\n",
            "O vendedor Ana bateu a meta com R$10300 em vendas\n"
          ]
        }
      ],
      "source": [
        "meta = 10000\n",
        "vendas = [\n",
        "    ['João', 15000],\n",
        "    ['Julia', 27000],\n",
        "    ['Marcus', 9900],\n",
        "    ['Maria', 3750],\n",
        "    ['Ana', 10300],\n",
        "    ['Alon', 7870],\n",
        "]\n",
        "\n",
        "for vendedor in vendas:\n",
        "    if vendedor[1] >= meta:\n",
        "        print(f'O vendedor {vendedor[0]} bateu a meta com R${vendedor[1]} em vendas')\n"
      ]
    },
    {
      "cell_type": "markdown",
      "metadata": {
        "id": "uhaXC5nquJQd"
      },
      "source": [
        "## 3. Comparação com Ano Anterior\n",
        "\n",
        "Digamos que você está analisando as vendas de produtos de um ecommerce e quer identificar quais produtos tiveram no ano de 2020 mais vendas do que no ano de 2019, para reportar isso para a diretoria.\n",
        "\n",
        "Sua resposta pode ser um print de cada produto, qual foi a venda de 2019, a venda de 2020 e o % de crescimento de 2020 para 2019.\n",
        "\n",
        "Lembrando, para calcular o % de crescimento de um produto de um ano para o outro, podemos fazer: (vendas_produto2020/vendas_produto2019 - 1)\n",
        "\n",
        "Dica: lembre do enumerate, ele pode facilitar seu \"for\""
      ]
    },
    {
      "cell_type": "code",
      "execution_count": 3,
      "metadata": {
        "id": "MpFmwLlauJQd",
        "colab": {
          "base_uri": "https://localhost:8080/"
        },
        "outputId": "3086065f-78cc-4dab-9382-26f502489a5b"
      },
      "outputs": [
        {
          "output_type": "stream",
          "name": "stdout",
          "text": [
            "iphone: Vendas 2019 = 558147, Vendas 2020 = 951642, Crescimento de 70.50%.\n",
            "tv: Vendas 2019 = 405252, Vendas 2020 = 787604, Crescimento de 94.35%.\n",
            "máquina de café: Vendas 2019 = 718654, Vendas 2020 = 867660, Crescimento de 20.73%.\n",
            "notebook dell: Vendas 2019 = 422760, Vendas 2020 = 694913, Crescimento de 64.38%.\n",
            "notebook hp: Vendas 2019 = 154753, Vendas 2020 = 539704, Crescimento de 248.75%.\n",
            "microsoft surface: Vendas 2019 = 438508, Vendas 2020 = 667179, Crescimento de 52.15%.\n",
            "webcam: Vendas 2019 = 237467, Vendas 2020 = 295633, Crescimento de 24.49%.\n",
            "caixa de som: Vendas 2019 = 489705, Vendas 2020 = 725316, Crescimento de 48.11%.\n",
            "microfone: Vendas 2019 = 328311, Vendas 2020 = 644622, Crescimento de 96.34%.\n",
            "câmera canon: Vendas 2019 = 591120, Vendas 2020 = 994303, Crescimento de 68.21%.\n"
          ]
        }
      ],
      "source": [
        "produtos = ['iphone', 'galaxy', 'ipad', 'tv', 'máquina de café', 'kindle', 'geladeira', 'adega', 'notebook dell', 'notebook hp', 'notebook asus', 'microsoft surface', 'webcam', 'caixa de som', 'microfone', 'câmera canon']\n",
        "vendas2019 = [558147,712350,573823,405252,718654,531580,973139,892292,422760,154753,887061,438508,237467,489705,328311,591120]\n",
        "vendas2020 = [951642,244295,26964,787604,867660,78830,710331,646016,694913,539704,324831,667179,295633,725316,644622,994303]\n",
        "\n",
        "for i, produto in enumerate(produtos):\n",
        "    if vendas2020[i] > vendas2019[i]:\n",
        "        crescimento = vendas2020[i] / vendas2019[i] - 1\n",
        "        print(f'{produto}: Vendas 2019 = {vendas2019[i]}, Vendas 2020 = {vendas2020[i]}, Crescimento de {crescimento:.2%}.')\n"
      ]
    },
    {
      "cell_type": "markdown",
      "source": [
        "4. Contando a Grana da Feira\n",
        "Situação: Você foi na feira comprar frutas. Anote os preços das frutas que comprou:\n",
        "[2.50, 3.00, 1.75, 4.20, 3.30]\n",
        "\n",
        "Desafio: Crie um código que use for para somar o total gasto na feira.\n",
        "\n",
        "\n",
        "\n"
      ],
      "metadata": {
        "id": "9Xp71htWkhc4"
      }
    },
    {
      "cell_type": "code",
      "source": [
        "frutas = [2.50, 3.00, 1.75, 4.20, 3.30]\n",
        "total = 0\n",
        "for fruta in frutas:\n",
        "  total = total + fruta\n",
        "print(f'Total gasto na feira: R${total}')\n"
      ],
      "metadata": {
        "id": "-j_15TnIkxTg",
        "colab": {
          "base_uri": "https://localhost:8080/"
        },
        "outputId": "e6de9214-71da-4b0f-e5f5-d76fa4a25de7"
      },
      "execution_count": 4,
      "outputs": [
        {
          "output_type": "stream",
          "name": "stdout",
          "text": [
            "Total gasto na feira: R$14.75\n"
          ]
        }
      ]
    },
    {
      "cell_type": "markdown",
      "source": [
        "5.Repetindo Senha Segura\n",
        "Situação: Um sistema precisa gerar uma senha segura repetindo uma palavra com um número de vezes definido pelo usuário.\n",
        "\n",
        "Desafio: Peça uma palavra e um número. Use for para repetir a palavra esse número de vezes."
      ],
      "metadata": {
        "id": "80jGocm8kzyY"
      }
    },
    {
      "cell_type": "code",
      "source": [
        "palavra = input(\"Digite uma palavra para sua senha: \")\n",
        "vezes = int(input(\"Quantas vezes repetir? \"))\n",
        "\n",
        "senha = \"\"\n",
        "for _ in range(vezes):\n",
        "  senha += palavra\n",
        "\n",
        "senha\n"
      ],
      "metadata": {
        "id": "n4nfuG14k5IH",
        "colab": {
          "base_uri": "https://localhost:8080/",
          "height": 70
        },
        "outputId": "0aa31df9-f91b-4734-ae34-173134ab75da"
      },
      "execution_count": 5,
      "outputs": [
        {
          "name": "stdout",
          "output_type": "stream",
          "text": [
            "Digite uma palavra para sua senha: Belinha\n",
            "Quantas vezes repetir? 5\n"
          ]
        },
        {
          "output_type": "execute_result",
          "data": {
            "text/plain": [
              "'BelinhaBelinhaBelinhaBelinhaBelinha'"
            ],
            "application/vnd.google.colaboratory.intrinsic+json": {
              "type": "string"
            }
          },
          "metadata": {},
          "execution_count": 5
        }
      ]
    },
    {
      "cell_type": "markdown",
      "source": [
        "6.Contagem Regressiva para o Lançamento\n",
        "Situação: Você trabalha na NASA e precisa fazer a contagem regressiva para o lançamento de um foguete 🚀\n",
        "\n",
        "Desafio: Faça um código que conte de 10 até 0 usando for e no final exiba \"Decolar!\""
      ],
      "metadata": {
        "id": "DAPmtvjUk7Jm"
      }
    },
    {
      "cell_type": "code",
      "source": [
        "for i in range(10, -1, -1):\n",
        "  print(i)\n",
        "print(\"Decolar!\")\n"
      ],
      "metadata": {
        "id": "ZFz3DRilk_ge",
        "colab": {
          "base_uri": "https://localhost:8080/"
        },
        "outputId": "8da6607e-fcd5-4cef-faef-f83d7cc2cd66"
      },
      "execution_count": 6,
      "outputs": [
        {
          "output_type": "stream",
          "name": "stdout",
          "text": [
            "10\n",
            "9\n",
            "8\n",
            "7\n",
            "6\n",
            "5\n",
            "4\n",
            "3\n",
            "2\n",
            "1\n",
            "0\n",
            "Decolar!\n"
          ]
        }
      ]
    },
    {
      "cell_type": "markdown",
      "source": [
        "7. Lista de Presença da Galera\n",
        "Situação: Você é monitor(a) de uma turma e precisa registrar quem está presente.\n",
        "\n",
        "Desafio: Dada a lista de alunos, use for para exibir cada nome com a mensagem \"presente\"."
      ],
      "metadata": {
        "id": "s7y6sGUElCOu"
      }
    },
    {
      "cell_type": "code",
      "source": [
        "alunos = [\"Ana\", \"Bruno\", \"Carlos\", \"Daniela\", \"Eduardo\"]\n",
        "# Seu código aqui\n",
        "for aluno in alunos:\n",
        "    print(f\"{aluno} presente\")\n"
      ],
      "metadata": {
        "id": "Lc0aNUPolEIW",
        "colab": {
          "base_uri": "https://localhost:8080/"
        },
        "outputId": "139c1372-5877-474d-b626-ad60c819eec4"
      },
      "execution_count": 7,
      "outputs": [
        {
          "output_type": "stream",
          "name": "stdout",
          "text": [
            "Ana presente\n",
            "Bruno presente\n",
            "Carlos presente\n",
            "Daniela presente\n",
            "Eduardo presente\n"
          ]
        }
      ]
    },
    {
      "cell_type": "markdown",
      "source": [
        "8.  Tabuada Ninja\n",
        "Situação: Seu dojo de matemática quer ensinar tabuada de forma ninja!\n",
        "\n",
        "Desafio: Peça um número ao usuário e use for para exibir a tabuada dele de 1 a 10."
      ],
      "metadata": {
        "id": "I8LK0U30lEfv"
      }
    },
    {
      "cell_type": "code",
      "source": [
        "numero = int(input(\"Digite um número para ver a tabuada: \"))\n",
        "for i in range(1, 11):\n",
        "  print(f\"{numero} x {i} = {numero * i}\")\n"
      ],
      "metadata": {
        "id": "ObZch2OQlLDO",
        "colab": {
          "base_uri": "https://localhost:8080/"
        },
        "outputId": "28222a33-2896-426c-ee00-93c5eff77e32"
      },
      "execution_count": 8,
      "outputs": [
        {
          "output_type": "stream",
          "name": "stdout",
          "text": [
            "Digite um número para ver a tabuada: 5\n",
            "5 x 1 = 5\n",
            "5 x 2 = 10\n",
            "5 x 3 = 15\n",
            "5 x 4 = 20\n",
            "5 x 5 = 25\n",
            "5 x 6 = 30\n",
            "5 x 7 = 35\n",
            "5 x 8 = 40\n",
            "5 x 9 = 45\n",
            "5 x 10 = 50\n"
          ]
        }
      ]
    },
    {
      "cell_type": "markdown",
      "source": [
        "9. Contando Vogais de uma Palavra\n",
        "Situação: Você está criando um jogo de palavras e precisa contar as vogais de uma palavra.\n",
        "\n",
        "Desafio: Peça uma palavra e use for para contar quantas vogais ela tem."
      ],
      "metadata": {
        "id": "5ptueaJ0lNBm"
      }
    },
    {
      "cell_type": "code",
      "source": [
        "vogais = \"aeiou\"\n",
        "count = 0\n",
        "for letra in palavra:\n",
        "  if letra in vogais:\n",
        "    count += 1\n",
        "print(f\"A palavra '{palavra}' tem {count} vogais.\")\n"
      ],
      "metadata": {
        "id": "Kfp45pC-lQQn",
        "colab": {
          "base_uri": "https://localhost:8080/"
        },
        "outputId": "9590c216-006a-4cfb-8aae-f327d7aad0ca"
      },
      "execution_count": 10,
      "outputs": [
        {
          "output_type": "stream",
          "name": "stdout",
          "text": [
            "A palavra 'Belinha' tem 3 vogais.\n"
          ]
        }
      ]
    },
    {
      "cell_type": "markdown",
      "source": [
        "10. Corrida dos Robôs\n",
        "Situação: Uma corrida de robôs tem 5 voltas. Cada robô registra seu tempo por volta.\n",
        "\n",
        "Desafio: Crie um programa que peça o tempo de cada volta (em segundos), use for para somar o total e diga o tempo total da corrida."
      ],
      "metadata": {
        "id": "L0lbAHILlR4W"
      }
    },
    {
      "cell_type": "code",
      "source": [
        "total = 0\n",
        "for volta in range(1, 6):\n",
        "    tempo = float(input(f\"Tempo da volta {volta}: \"))\n",
        "    total += tempo\n",
        "print(f\"Tempo total da corrida: {total} segundos\")\n"
      ],
      "metadata": {
        "id": "rFikI7sTlWM_",
        "colab": {
          "base_uri": "https://localhost:8080/"
        },
        "outputId": "a85dbb84-ed20-43fa-894a-9a3611471741"
      },
      "execution_count": 11,
      "outputs": [
        {
          "output_type": "stream",
          "name": "stdout",
          "text": [
            "Tempo da volta 1: 4\n",
            "Tempo da volta 2: 9\n",
            "Tempo da volta 3: 6\n",
            "Tempo da volta 4: 2\n",
            "Tempo da volta 5: 4\n",
            "Tempo total da corrida: 25.0 segundos\n"
          ]
        }
      ]
    },
    {
      "cell_type": "markdown",
      "source": [
        "🍭 Desafio Final: Fábrica de Pirulitos\n",
        "🏭 Situação-problema:\n",
        "\n",
        "Você foi contratado(a) por uma fábrica de pirulitos para desenvolver um sistema que simule a produção do dia.\n",
        "Cada pirulito produzido é representado por um emoji 🍭.\n",
        "\n",
        "🛠️ Regras:\n",
        "O usuário informa quantos pirulitos foram produzidos em cada hora do expediente (8 horas de trabalho).\n",
        "\n",
        "Use um laço for para:\n",
        "\n",
        "Pedir a quantidade de pirulitos de cada hora.\n",
        "\n",
        "Exibir uma “barrinha de produção” visual com 🍭 repetidos."
      ],
      "metadata": {
        "id": "lwfkl5ZjlX43"
      }
    },
    {
      "cell_type": "code",
      "source": [
        "## Exemplo\n",
        "\n",
        "for hora in range(1, 9):\n",
        "    qtd = int(input(f\"Quantos pirulitos foram feitos na hora {hora}? \"))\n",
        "    print(f\"Hora {hora}: \" + \"🍭\" * qtd)\n"
      ],
      "metadata": {
        "id": "DzhHZfFvlvle"
      },
      "execution_count": null,
      "outputs": []
    },
    {
      "cell_type": "code",
      "source": [
        "##✅ Saída esperada:\n",
        "Quantos pirulitos foram feitos na hora 1? 3\n",
        "Hora 1: 🍭🍭🍭\n",
        "Quantos pirulitos foram feitos na hora 2? 5\n",
        "Hora 2: 🍭🍭🍭🍭🍭\n",
        "...\n"
      ],
      "metadata": {
        "id": "g1q1bfOwl2a3"
      },
      "execution_count": null,
      "outputs": []
    },
    {
      "cell_type": "code",
      "source": [
        "for hora in range(1, 9):\n",
        "    qtd = int(input(f\"Quantos pirulitos foram feitos na hora {hora}? \"))\n",
        "    print(f\"Hora {hora}: \" + \"🍭\" * qtd)\n"
      ],
      "metadata": {
        "colab": {
          "base_uri": "https://localhost:8080/"
        },
        "id": "EMRB0ed6uGgc",
        "outputId": "53a7ea5c-97b0-4133-972b-4f4947e27e9f"
      },
      "execution_count": 12,
      "outputs": [
        {
          "output_type": "stream",
          "name": "stdout",
          "text": [
            "Quantos pirulitos foram feitos na hora 1? 120\n",
            "Hora 1: 🍭🍭🍭🍭🍭🍭🍭🍭🍭🍭🍭🍭🍭🍭🍭🍭🍭🍭🍭🍭🍭🍭🍭🍭🍭🍭🍭🍭🍭🍭🍭🍭🍭🍭🍭🍭🍭🍭🍭🍭🍭🍭🍭🍭🍭🍭🍭🍭🍭🍭🍭🍭🍭🍭🍭🍭🍭🍭🍭🍭🍭🍭🍭🍭🍭🍭🍭🍭🍭🍭🍭🍭🍭🍭🍭🍭🍭🍭🍭🍭🍭🍭🍭🍭🍭🍭🍭🍭🍭🍭🍭🍭🍭🍭🍭🍭🍭🍭🍭🍭🍭🍭🍭🍭🍭🍭🍭🍭🍭🍭🍭🍭🍭🍭🍭🍭🍭🍭🍭🍭\n",
            "Quantos pirulitos foram feitos na hora 2? 80\n",
            "Hora 2: 🍭🍭🍭🍭🍭🍭🍭🍭🍭🍭🍭🍭🍭🍭🍭🍭🍭🍭🍭🍭🍭🍭🍭🍭🍭🍭🍭🍭🍭🍭🍭🍭🍭🍭🍭🍭🍭🍭🍭🍭🍭🍭🍭🍭🍭🍭🍭🍭🍭🍭🍭🍭🍭🍭🍭🍭🍭🍭🍭🍭🍭🍭🍭🍭🍭🍭🍭🍭🍭🍭🍭🍭🍭🍭🍭🍭🍭🍭🍭🍭\n",
            "Quantos pirulitos foram feitos na hora 3? 5\n",
            "Hora 3: 🍭🍭🍭🍭🍭\n",
            "Quantos pirulitos foram feitos na hora 4? 99\n",
            "Hora 4: 🍭🍭🍭🍭🍭🍭🍭🍭🍭🍭🍭🍭🍭🍭🍭🍭🍭🍭🍭🍭🍭🍭🍭🍭🍭🍭🍭🍭🍭🍭🍭🍭🍭🍭🍭🍭🍭🍭🍭🍭🍭🍭🍭🍭🍭🍭🍭🍭🍭🍭🍭🍭🍭🍭🍭🍭🍭🍭🍭🍭🍭🍭🍭🍭🍭🍭🍭🍭🍭🍭🍭🍭🍭🍭🍭🍭🍭🍭🍭🍭🍭🍭🍭🍭🍭🍭🍭🍭🍭🍭🍭🍭🍭🍭🍭🍭🍭🍭🍭\n",
            "Quantos pirulitos foram feitos na hora 5? 22\n",
            "Hora 5: 🍭🍭🍭🍭🍭🍭🍭🍭🍭🍭🍭🍭🍭🍭🍭🍭🍭🍭🍭🍭🍭🍭\n",
            "Quantos pirulitos foram feitos na hora 6? 222\n",
            "Hora 6: 🍭🍭🍭🍭🍭🍭🍭🍭🍭🍭🍭🍭🍭🍭🍭🍭🍭🍭🍭🍭🍭🍭🍭🍭🍭🍭🍭🍭🍭🍭🍭🍭🍭🍭🍭🍭🍭🍭🍭🍭🍭🍭🍭🍭🍭🍭🍭🍭🍭🍭🍭🍭🍭🍭🍭🍭🍭🍭🍭🍭🍭🍭🍭🍭🍭🍭🍭🍭🍭🍭🍭🍭🍭🍭🍭🍭🍭🍭🍭🍭🍭🍭🍭🍭🍭🍭🍭🍭🍭🍭🍭🍭🍭🍭🍭🍭🍭🍭🍭🍭🍭🍭🍭🍭🍭🍭🍭🍭🍭🍭🍭🍭🍭🍭🍭🍭🍭🍭🍭🍭🍭🍭🍭🍭🍭🍭🍭🍭🍭🍭🍭🍭🍭🍭🍭🍭🍭🍭🍭🍭🍭🍭🍭🍭🍭🍭🍭🍭🍭🍭🍭🍭🍭🍭🍭🍭🍭🍭🍭🍭🍭🍭🍭🍭🍭🍭🍭🍭🍭🍭🍭🍭🍭🍭🍭🍭🍭🍭🍭🍭🍭🍭🍭🍭🍭🍭🍭🍭🍭🍭🍭🍭🍭🍭🍭🍭🍭🍭🍭🍭🍭🍭🍭🍭🍭🍭🍭🍭🍭🍭🍭🍭🍭🍭🍭🍭🍭🍭🍭🍭🍭🍭\n",
            "Quantos pirulitos foram feitos na hora 7? 450\n",
            "Hora 7: 🍭🍭🍭🍭🍭🍭🍭🍭🍭🍭🍭🍭🍭🍭🍭🍭🍭🍭🍭🍭🍭🍭🍭🍭🍭🍭🍭🍭🍭🍭🍭🍭🍭🍭🍭🍭🍭🍭🍭🍭🍭🍭🍭🍭🍭🍭🍭🍭🍭🍭🍭🍭🍭🍭🍭🍭🍭🍭🍭🍭🍭🍭🍭🍭🍭🍭🍭🍭🍭🍭🍭🍭🍭🍭🍭🍭🍭🍭🍭🍭🍭🍭🍭🍭🍭🍭🍭🍭🍭🍭🍭🍭🍭🍭🍭🍭🍭🍭🍭🍭🍭🍭🍭🍭🍭🍭🍭🍭🍭🍭🍭🍭🍭🍭🍭🍭🍭🍭🍭🍭🍭🍭🍭🍭🍭🍭🍭🍭🍭🍭🍭🍭🍭🍭🍭🍭🍭🍭🍭🍭🍭🍭🍭🍭🍭🍭🍭🍭🍭🍭🍭🍭🍭🍭🍭🍭🍭🍭🍭🍭🍭🍭🍭🍭🍭🍭🍭🍭🍭🍭🍭🍭🍭🍭🍭🍭🍭🍭🍭🍭🍭🍭🍭🍭🍭🍭🍭🍭🍭🍭🍭🍭🍭🍭🍭🍭🍭🍭🍭🍭🍭🍭🍭🍭🍭🍭🍭🍭🍭🍭🍭🍭🍭🍭🍭🍭🍭🍭🍭🍭🍭🍭🍭🍭🍭🍭🍭🍭🍭🍭🍭🍭🍭🍭🍭🍭🍭🍭🍭🍭🍭🍭🍭🍭🍭🍭🍭🍭🍭🍭🍭🍭🍭🍭🍭🍭🍭🍭🍭🍭🍭🍭🍭🍭🍭🍭🍭🍭🍭🍭🍭🍭🍭🍭🍭🍭🍭🍭🍭🍭🍭🍭🍭🍭🍭🍭🍭🍭🍭🍭🍭🍭🍭🍭🍭🍭🍭🍭🍭🍭🍭🍭🍭🍭🍭🍭🍭🍭🍭🍭🍭🍭🍭🍭🍭🍭🍭🍭🍭🍭🍭🍭🍭🍭🍭🍭🍭🍭🍭🍭🍭🍭🍭🍭🍭🍭🍭🍭🍭🍭🍭🍭🍭🍭🍭🍭🍭🍭🍭🍭🍭🍭🍭🍭🍭🍭🍭🍭🍭🍭🍭🍭🍭🍭🍭🍭🍭🍭🍭🍭🍭🍭🍭🍭🍭🍭🍭🍭🍭🍭🍭🍭🍭🍭🍭🍭🍭🍭🍭🍭🍭🍭🍭🍭🍭🍭🍭🍭🍭🍭🍭🍭🍭🍭🍭🍭🍭🍭🍭🍭🍭🍭🍭🍭🍭🍭🍭🍭🍭🍭🍭🍭🍭🍭🍭🍭🍭🍭🍭🍭🍭🍭🍭🍭🍭🍭🍭🍭🍭🍭🍭🍭🍭🍭🍭🍭🍭🍭🍭🍭\n",
            "Quantos pirulitos foram feitos na hora 8? 99\n",
            "Hora 8: 🍭🍭🍭🍭🍭🍭🍭🍭🍭🍭🍭🍭🍭🍭🍭🍭🍭🍭🍭🍭🍭🍭🍭🍭🍭🍭🍭🍭🍭🍭🍭🍭🍭🍭🍭🍭🍭🍭🍭🍭🍭🍭🍭🍭🍭🍭🍭🍭🍭🍭🍭🍭🍭🍭🍭🍭🍭🍭🍭🍭🍭🍭🍭🍭🍭🍭🍭🍭🍭🍭🍭🍭🍭🍭🍭🍭🍭🍭🍭🍭🍭🍭🍭🍭🍭🍭🍭🍭🍭🍭🍭🍭🍭🍭🍭🍭🍭🍭🍭\n"
          ]
        }
      ]
    }
  ]
}