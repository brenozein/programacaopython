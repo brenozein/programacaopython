{
  "nbformat": 4,
  "nbformat_minor": 0,
  "metadata": {
    "colab": {
      "provenance": []
    },
    "kernelspec": {
      "name": "python3",
      "display_name": "Python 3"
    },
    "language_info": {
      "name": "python"
    }
  },
  "cells": [
    {
      "cell_type": "markdown",
      "metadata": {
        "id": "fe872b31"
      },
      "source": [
        "# Exercícios - LISTAS\n",
        "\n",
        "### Neste conjunto de exercícios, você será desafiado a aplicar os conceitos aprendidos sobre listas em Python. Os exercícios abrangem operações como criação de listas, remoção de elementos, adição de itens, índices, uso de list comprehensions e muito mais. Siga as instruções de cada exercício e tente resolver utilizando apenas o código dentro do script."
      ]
    },
    {
      "cell_type": "markdown",
      "metadata": {
        "id": "ced88942"
      },
      "source": [
        "### 1 - Crie uma lista contendo os nomes de 5 países. Peça ao usuário para inserir o nome de mais um país. Em seguida, verifique se o país fornecido pelo usuário está na lista e exiba uma mensagem informando se ele está ou não na lista."
      ]
    },
    {
      "cell_type": "code",
      "execution_count": null,
      "metadata": {
        "id": "a0921d54"
      },
      "outputs": [],
      "source": [
        "paises = ['Brasil', 'Argentina', 'Chile', 'Peru', 'Bolivia']\n",
        "pais = input('Digite o nome de um país:')\n",
        "if pais in paises:\n",
        "    print('O país está na lista')\n",
        "else:\n",
        "    print('O país não está na lista')\n"
      ]
    },
    {
      "cell_type": "markdown",
      "metadata": {
        "id": "e63dc0cd"
      },
      "source": [
        "### 2 - Crie uma lista contendo os preços de 5 produtos. Em seguida, calcule e exiba o preço médio desses produtos."
      ]
    },
    {
      "cell_type": "code",
      "execution_count": null,
      "metadata": {
        "id": "fbe16db3"
      },
      "outputs": [],
      "source": [
        "precos = [10.50, 20.30, 15.00, 30.00, 25.00]\n",
        "preco_medio = sum(precos) / len(precos)\n",
        "print(preco_medio)\n"
      ]
    },
    {
      "cell_type": "markdown",
      "metadata": {
        "id": "a6c25a88"
      },
      "source": [
        "  ### 3 - Crie uma lista com 5 cores diferentes. Peça ao usuário para inserir o nome de uma cor. Se a cor estiver na lista, remova-a e exiba a lista atualizada. Caso contrário, exiba uma mensagem informando que a cor não foi encontrada."
      ]
    },
    {
      "cell_type": "code",
      "execution_count": null,
      "metadata": {
        "id": "0e451513"
      },
      "outputs": [],
      "source": [
        "cores = ['vermelho', 'azul', 'verde', 'amarelo', 'roxo']\n",
        "cor = input('Digite o nome de uma cor:')\n",
        "if cor in cores:\n",
        "    cores.remove(cor)\n",
        "    print(cores)\n",
        "else:\n",
        "    print('A cor não foi encontrada')"
      ]
    },
    {
      "cell_type": "markdown",
      "metadata": {
        "id": "5ec7b5d2"
      },
      "source": [
        "### 4 - Escreva um programa que leia duas listas de números do usuário e verifique se elas têm o mesmo comprimento e se possuem elementos iguais nas mesmas posições. Exiba uma mensagem informando se as listas são iguais ou diferentes."
      ]
    },
    {
      "cell_type": "markdown",
      "source": [
        "****DESAFIO*****\n",
        "\n",
        "Enunciado da Atividade - Sistema de Gestão de Estoque de Produtos\n",
        "\n",
        "Situação Problema:\n",
        "\n",
        "Você foi contratado para desenvolver um sistema simples de controle de estoque de uma loja. O sistema irá permitir que o usuário adicione, remova e visualize produtos no estoque, bem como calcule o valor total dos itens em estoque e a média de preços.\n",
        "\n",
        "Requisitos:\n",
        "\n",
        "Cadastro de Produtos: O sistema deve permitir que o usuário cadastre 5 produtos, incluindo o nome e o preço de cada um. O sistema deve armazenar esses dados em listas, sendo uma lista para os nomes dos produtos e outra para os preços.\n",
        "\n",
        "Adicionar Produtos: O sistema deve pedir ao usuário para inserir o nome e o preço de um novo produto e adicionar esses dados nas listas de produtos. O sistema deve verificar se o produto já está cadastrado. Caso contrário, o novo produto será adicionado.\n",
        "\n",
        "Remover Produtos: O sistema deve permitir que o usuário informe o nome de um produto para removê-lo da lista. Caso o produto esteja na lista, ele será removido. Caso contrário, o sistema deve informar que o produto não foi encontrado.\n",
        "\n",
        "Exibir Produtos: O sistema deve exibir a lista de produtos cadastrados com os respectivos preços.\n",
        "\n",
        "Cálculo do Valor Total: O sistema deve calcular o valor total de todos os produtos no estoque, somando os preços.\n",
        "\n",
        "Cálculo da Média de Preços: O sistema deve calcular e exibir a média de preços dos produtos cadastrados."
      ],
      "metadata": {
        "id": "hqpBIdYyeEH4"
      }
    },
    {
      "cell_type": "markdown",
      "source": [
        "Produtos:\n",
        "1. Produto A - 10.50\n",
        "2. Produto B - 20.30\n",
        "3. Produto C - 15.00\n",
        "4. Produto D - 30.00\n",
        "5. Produto E - 25.00\n",
        "\n",
        "O que você deseja fazer?\n",
        "1. Adicionar Produto\n",
        "2. Remover Produto\n",
        "3. Exibir Produtos\n",
        "4. Calcular Total do Estoque\n",
        "5. Calcular Média de Preços\n",
        "6. Sair\n",
        "\n",
        "Digite a opção desejada:"
      ],
      "metadata": {
        "id": "GJp5ENCbeF3u"
      }
    },
    {
      "cell_type": "code",
      "execution_count": null,
      "metadata": {
        "id": "769dcb62"
      },
      "outputs": [],
      "source": [
        "produtos = {'Produto A': 10.50, 'Produto B': 20.30, 'Produto C': 15.00, 'Produto D': 30.00, 'Produto E': 25.00}\n",
        "opcao = input('O que você deseja fazer? ')\n",
        "\n",
        "if opcao == 'Adicionar Produto':\n",
        "    nome = input('Digite o nome do produto: ')\n",
        "    preco = float(input('Digite o preço do produto: '))\n",
        "    produtos[nome] = preco\n",
        "    print('Produto adicionado com sucesso!')\n",
        "\n",
        "elif opcao == 'Remover Produto':\n",
        "    nome = input('Digite o nome do produto: ')\n",
        "    if nome in produtos:\n",
        "        del produtos[nome]\n",
        "        print('Produto removido com sucesso!')\n",
        "    else:\n",
        "        print('Produto não encontrado!')\n",
        "\n",
        "elif opcao == 'Exibir Produtos':\n",
        "    for nome, preco in produtos.items():\n",
        "        print(f'{nome}: {preco}')\n",
        "\n",
        "elif opcao == 'Calcular Total do Estoque':\n",
        "    total = sum(produtos.values())\n",
        "    print(f'O valor total do estoque é: {total}')\n",
        "\n",
        "elif opcao == 'Calcular Média de Preços':\n",
        "    media = sum(produtos.values()) / len(produtos)\n",
        "    print(f'A média de preços é de: {media}')\n",
        "\n",
        "else:\n",
        "    print('Opção inválida')"
      ]
    }
  ]
}