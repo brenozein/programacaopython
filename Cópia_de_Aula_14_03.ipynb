{
  "nbformat": 4,
  "nbformat_minor": 0,
  "metadata": {
    "colab": {
      "provenance": []
    },
    "kernelspec": {
      "name": "python3",
      "display_name": "Python 3"
    },
    "language_info": {
      "name": "python"
    }
  },
  "cells": [
    {
      "cell_type": "code",
      "execution_count": null,
      "metadata": {
        "id": "R6mwMexSuKk9"
      },
      "outputs": [],
      "source": []
    },
    {
      "cell_type": "markdown",
      "metadata": {
        "id": "a220e4e2"
      },
      "source": [
        "## **Exercícios  - Metódo .format**"
      ]
    },
    {
      "cell_type": "markdown",
      "metadata": {
        "id": "737f7ee0"
      },
      "source": [
        "## Crie programas em python para atender as especificações abaixo."
      ]
    },
    {
      "cell_type": "markdown",
      "metadata": {
        "id": "b9d7d65b"
      },
      "source": [
        "# 1 - Faça um programa que peça o nome de um país, a capital e o idioma oficial e exiba uma mensagem com essas informações."
      ]
    },
    {
      "cell_type": "code",
      "execution_count": null,
      "metadata": {
        "id": "1b62af10",
        "colab": {
          "base_uri": "https://localhost:8080/"
        },
        "outputId": "80eb7e04-8e68-4042-9889-d1c0240b14d7"
      },
      "outputs": [
        {
          "output_type": "stream",
          "name": "stdout",
          "text": [
            "Digite o nome do país:Brasil\n",
            "Digite o nome da capital:Brasilia\n",
            "Digite o idioma do paísPortuguês\n",
            "O pais Brasil, tem como capital Brasilia, e seu idioma é o Português.\n"
          ]
        }
      ],
      "source": [
        "pais = input(\"Digite o nome do país:\")\n",
        "capital = input(\"Digite o nome da capital:\")\n",
        "idioma = input(\"Digite o idioma do país\")\n",
        "\n",
        "print(\"O pais {}, tem como capital {}, e seu idioma é o {}.\".format(pais, capital, idioma))"
      ]
    },
    {
      "cell_type": "markdown",
      "metadata": {
        "id": "5d617672"
      },
      "source": [
        "# 2 - Escreva um programa que peça dois números e exiba a soma deles."
      ]
    },
    {
      "cell_type": "code",
      "execution_count": null,
      "metadata": {
        "id": "2c842c57",
        "colab": {
          "base_uri": "https://localhost:8080/"
        },
        "outputId": "d9de6a56-9728-4e99-8d6e-8a91233f489c"
      },
      "outputs": [
        {
          "output_type": "stream",
          "name": "stdout",
          "text": [
            "Digite o primeiro número:10\n",
            "Digite o segundo número:10\n",
            "A soma dos números são:20\n"
          ]
        }
      ],
      "source": [
        "numero1 = input(\"Digite o primeiro número:\")\n",
        "numero2 = input(\"Digite o segundo número:\")\n",
        "\n",
        "soma = int(numero1) + int(numero2)\n",
        "\n",
        "print(\"A soma dos números são:{}\".format(soma))"
      ]
    },
    {
      "cell_type": "markdown",
      "metadata": {
        "id": "78770cac"
      },
      "source": [
        "# 3 - Faça um programa que solicite o nome e a idade do usuário e exiba uma mensagem personalizada."
      ]
    },
    {
      "cell_type": "code",
      "execution_count": null,
      "metadata": {
        "id": "85cc64da",
        "colab": {
          "base_uri": "https://localhost:8080/"
        },
        "outputId": "cf176d53-9839-474b-ec59-033dd4ed8be2"
      },
      "outputs": [
        {
          "output_type": "stream",
          "name": "stdout",
          "text": [
            "Digite seu nome:Breno\n",
            "Digite sua idade:22\n",
            "Óla Breno, você tem 22 anos!\n"
          ]
        }
      ],
      "source": [
        "nome = input(\"Digite seu nome:\")\n",
        "idade = input(\"Digite sua idade:\")\n",
        "\n",
        "print(\"Óla {}, você tem {} anos!\". format(nome, idade))\n"
      ]
    },
    {
      "cell_type": "markdown",
      "metadata": {
        "id": "259a4bbf"
      },
      "source": [
        "# 4 - Crie duas variáveis para armazenar valores numéricos e exiba o resultado da soma."
      ]
    },
    {
      "cell_type": "code",
      "execution_count": null,
      "metadata": {
        "id": "2d4313e9",
        "colab": {
          "base_uri": "https://localhost:8080/"
        },
        "outputId": "97de162d-2992-4cf0-930d-233ba24baaaa"
      },
      "outputs": [
        {
          "output_type": "stream",
          "name": "stdout",
          "text": [
            "Digite o primeiro número: 1\n",
            "Digite o segundo número: 2\n",
            "A soma de 1.0 e 2.0 é igual a 3.0.\n"
          ]
        }
      ],
      "source": [
        "\n",
        "numero1 = float(input(\"Digite o primeiro número: \"))\n",
        "numero2 = float(input(\"Digite o segundo número: \"))\n",
        "\n",
        "soma = numero1 + numero2\n",
        "\n",
        "print(\"A soma de {} e {} é igual a {}.\".format(numero1, numero2, soma))\n"
      ]
    },
    {
      "cell_type": "markdown",
      "metadata": {
        "id": "a4b642fa"
      },
      "source": [
        "# 5 -  Escreva um programa que peça o nome do usuário e exiba uma mensagem de boas-vindas."
      ]
    },
    {
      "cell_type": "code",
      "execution_count": null,
      "metadata": {
        "id": "dfee06bd",
        "colab": {
          "base_uri": "https://localhost:8080/"
        },
        "outputId": "362ee3f4-8069-4ff0-f5ff-9d7123bae793"
      },
      "outputs": [
        {
          "output_type": "stream",
          "name": "stdout",
          "text": [
            "Digite seu nome:Breno\n",
            "Olá Breno, seja bem vindo!\n"
          ]
        }
      ],
      "source": [
        "nome = input(\"Digite seu nome:\")\n",
        "\n",
        "print(\"Olá {}, seja bem vindo!\".format(nome))"
      ]
    },
    {
      "cell_type": "markdown",
      "metadata": {
        "id": "1aa984cf"
      },
      "source": [
        "#  6 - Você foi contratado para desenvolver um programa que auxilie um petshop a gerar mensagens personalizadas para seus clientes. O programa deve solicitar algumas informações do cliente e, em seguida, exibir uma mensagem customizada com base nos dados fornecidos.\n",
        "\n",
        "O programa deve conter as seguintes etapas:\n",
        "\n",
        "Solicitar ao usuário que digite seu nome, o nome do seu pet (animal de estimação) e a espécie do pet (por exemplo, cachorro, gato, pássaro, etc.).\n",
        "\n",
        "Em seguida, peça ao usuário que informe a idade do pet em anos.\n",
        "\n",
        "Solicite também ao usuário que informe se o pet já tomou todas as vacinas obrigatórias (responda com \"Sim\" ou \"Não\").\n",
        "\n",
        "Com base nas informações coletadas, o programa deve gerar uma mensagem personalizada para o cliente. A mensagem deve incluir o nome do cliente, o nome do pet, a espécie do pet, sua idade em anos e se já tomou todas as vacinas obrigatórias."
      ]
    },
    {
      "cell_type": "code",
      "execution_count": null,
      "metadata": {
        "id": "72c15eff",
        "colab": {
          "base_uri": "https://localhost:8080/",
          "height": 122
        },
        "outputId": "871812ab-1f6a-4b41-af3e-72a6ec80159d"
      },
      "outputs": [
        {
          "name": "stdout",
          "output_type": "stream",
          "text": [
            "Digite seu nome: Breno\n",
            "Digite o nome do seu pet: Belinha\n",
            "Digite a espécie do seu pet: Cachorra\n",
            "Digite a idade do seu pet em anos: 14\n",
            "O pet já tomou todas as vacinas obrigatórias? (Sim ou Não): Sim\n"
          ]
        },
        {
          "output_type": "execute_result",
          "data": {
            "text/plain": [
              "'Olá Breno, vimos que você tem um Cachorra chamado(a) Belinha, de 14 anos. Que ótimo saber que seu pet está com todas as vacinas em dia! Obrigado por ser nosso cliente!'"
            ],
            "application/vnd.google.colaboratory.intrinsic+json": {
              "type": "string"
            }
          },
          "metadata": {},
          "execution_count": 18
        }
      ],
      "source": [
        "\n",
        "nome_cliente = input(\"Digite seu nome: \")\n",
        "nome_pet = input(\"Digite o nome do seu pet: \")\n",
        "especie_pet = input(\"Digite a espécie do seu pet: \")\n",
        "idade_pet = input(\"Digite a idade do seu pet em anos: \")\n",
        "vacinas_em_dia = input(\"O pet já tomou todas as vacinas obrigatórias? (Sim ou Não): \")\n",
        "\n",
        "mensagem = f\"Olá {nome_cliente}, vimos que você tem um {especie_pet} chamado(a) {nome_pet}, de {idade_pet} anos. \"\n",
        "\n",
        "if vacinas_em_dia.lower() == \"sim\":\n",
        "  mensagem += \"Que ótimo saber que seu pet está com todas as vacinas em dia! \"\n",
        "elif vacinas_em_dia.lower() == \"não\":\n",
        "  mensagem += \"Lembre-se que é muito importante manter as vacinas do seu pet em dia. Entre em contato conosco para agendar uma consulta! \"\n",
        "else:\n",
        "  mensagem += \"Não entendi sua resposta sobre as vacinas. Por favor, entre em contato conosco para esclarecermos qualquer dúvida. \"\n",
        "\n",
        "mensagem += \"Obrigado por ser nosso cliente!\"\n",
        "\n",
        "mensagem\n"
      ]
    },
    {
      "cell_type": "code",
      "source": [],
      "metadata": {
        "id": "V8yGoItXDAop"
      },
      "execution_count": null,
      "outputs": []
    }
  ]
}