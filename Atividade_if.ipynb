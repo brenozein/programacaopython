{
  "nbformat": 4,
  "nbformat_minor": 0,
  "metadata": {
    "colab": {
      "provenance": []
    },
    "kernelspec": {
      "name": "python3",
      "display_name": "Python 3"
    },
    "language_info": {
      "name": "python"
    }
  },
  "cells": [
    {
      "cell_type": "code",
      "execution_count": null,
      "metadata": {
        "id": "aEprQdfyLWNO"
      },
      "outputs": [],
      "source": []
    },
    {
      "cell_type": "markdown",
      "metadata": {
        "id": "_Fe90JOXiJbX"
      },
      "source": [
        "# Exercícios com if"
      ]
    },
    {
      "cell_type": "markdown",
      "metadata": {
        "id": "A1QT4EpgiJbd"
      },
      "source": [
        "## 1. Cálculo de Bônus\n",
        "\n",
        "- Crie um programa que calcule e dê um print no bônus que os funcionários devem receber segundo a regra:\n",
        "\n",
        "A meta é 1000 vendas.<br>\n",
        "Se o valor de vendas for maior ou igual a meta, o valor do bônus do funcionário é 10% do valor de vendas.<br>\n",
        "Caso contrário o valor de bônus do funcionário é 0.<br>\n",
        "Print o bônus dos 3 funcionários"
      ]
    },
    {
      "cell_type": "code",
      "source": [
        "vendas_funcionario1 = 1000\n",
        "vendas_funcionario2 = 770\n",
        "vendas_funcionario3 = 2700\n",
        "\n",
        "meta = 1000\n",
        "\n",
        "if vendas_funcionario1 >= meta:\n",
        "  bonus = 0.10 * vendas_funcionario1\n",
        "else:\n",
        "  bonus = 0\n",
        "print(f'O bonus do funcionário 1 é: {bonus}')\n",
        "\n",
        "if vendas_funcionario2 >= meta:\n",
        "  bonus = 0.10 * vendas_funcionario2\n",
        "else:\n",
        "  bonus = 0\n",
        "print(f'O bonus do funcionário 2 é: {bonus}')\n",
        "\n",
        "if vendas_funcionario3 >= meta:\n",
        "  bonus = 0.10 * vendas_funcionario3\n",
        "else:\n",
        "  bonus = 0\n",
        "print(f'O bonus do funcionário 3 é: {bonus}')"
      ],
      "metadata": {
        "id": "VUb7ol06DnA7",
        "colab": {
          "base_uri": "https://localhost:8080/"
        },
        "outputId": "22349cae-9b50-45b6-8c8d-b07ef1b3ce10"
      },
      "execution_count": null,
      "outputs": [
        {
          "output_type": "stream",
          "name": "stdout",
          "text": [
            "O bonus do funcionário 1 é: 100.0\n",
            "O bonus do funcionário 2 é: 0\n",
            "O bonus do funcionário 3 é: 270.0\n"
          ]
        }
      ]
    },
    {
      "cell_type": "markdown",
      "metadata": {
        "id": "tYHfIUDIiJbi"
      },
      "source": [
        "## 2. Cálculo de bônus com uma nova regra\n",
        "\n",
        "- Agora, crie um novo código que calcule e dê um print no bônus dos funcionários novamente. Porém há uma nova regra nesse 2º caso:\n",
        "\n",
        "A meta é 1000 vendas<br>\n",
        "Agora, os funcionários que venderem muito acima da meta ganham mais bônus do que os outros. Então o bônus é definido da seguinte forma:<br>\n",
        "\n",
        "- Se vendas funcionário for maior ou igual a 2000, então o bônus é de 15% sobre o valor de vendas\n",
        "- Se vendas funcionário for menor do que 2000 e maior ou igual a 1000, então o bônus é de 10% sobre o valor de vendas\n",
        "- Se vendas funcionário for menos do que 1000 então o bônus do funcionário é de 0.\n",
        "\n",
        "Use as mesmas variáveis de vendas_funcionários"
      ]
    },
    {
      "cell_type": "code",
      "execution_count": null,
      "metadata": {
        "id": "HN8wMfKViJbi",
        "outputId": "6d23398c-81f8-41c2-d77b-a9f9a6d7d7ed",
        "colab": {
          "base_uri": "https://localhost:8080/"
        }
      },
      "outputs": [
        {
          "output_type": "stream",
          "name": "stdout",
          "text": [
            "O bonus do funcionário 1 é: 100.0\n",
            "O bonus do funcionário 2 é: 0\n",
            "O bonus do funcionário 3 é: 405.0\n"
          ]
        }
      ],
      "source": [
        "vendas_funcionario1 = 1000\n",
        "vendas_funcionario2 = 770\n",
        "vendas_funcionario3 = 2700\n",
        "\n",
        "meta = 1000\n",
        "\n",
        "#Cálculo de bônus do funcionário 1\n",
        "if vendas_funcionario1 >= 2000:\n",
        "  bonus = 0.15 * vendas_funcionario1\n",
        "elif vendas_funcionario1 >= 1000:\n",
        "  bonus = 0.10 * vendas_funcionario1\n",
        "else:\n",
        "  bonus = 0\n",
        "print(f'O bonus do funcionário 1 é: {bonus}')\n",
        "\n",
        "#Cálculo de bônus do funcionário 2\n",
        "if vendas_funcionario2 >= 2000:\n",
        "  bonus = 0.15 * vendas_funcionario2\n",
        "elif vendas_funcionario2 >= 1000:\n",
        "  bonus = 0.10 * vendas_funcionario2\n",
        "else:\n",
        "  bonus = 0\n",
        "print(f'O bonus do funcionário 2 é: {bonus}')\n",
        "\n",
        "#Cálculo de bônus do funcionário 3\n",
        "if vendas_funcionario3 >= 2000:\n",
        "  bonus = 0.15 * vendas_funcionario3\n",
        "elif vendas_funcionario3 >= 1000:\n",
        "  bonus = 0.10 * vendas_funcionario3\n",
        "else:\n",
        "  bonus = 0\n",
        "print(f'O bonus do funcionário 3 é: {bonus}')"
      ]
    },
    {
      "cell_type": "markdown",
      "source": [
        "## 3. Criando um mini sistema de controle de estoque\n",
        "\n",
        "- Crie um sistema para ser usado pelo time de controle de estoque de um centro de distribuição.\n",
        "- Imagine que ao fim de todo dia, o time conta quantas unidades de produto existem no estoque. Se tivermos um estoque abaixo do estoque permitido para aquela categoria do produto, o time deve ser avisado (print) para fazer um novo pedido daquele produto.\n",
        "- Cada categoria de produto tem um estoque mínimo diferente, segundo a regra abaixo:\n",
        "\n",
        "- alimentos -> Estoque mínimo: 50\n",
        "- bebidas -> Estoque mínimo: 75\n",
        "- limpeza -> Estoque mínimo: 30\n",
        "\n",
        "Para isso vamos criar um programa que pede 3 inputs do usuário: nome do produto, categoria e quantidade atual em estoque.\n",
        "\n",
        "Se o produto tiver abaixo do estoque mínimo da categoria dele, o programa deve printar a mensagem \"Solicitar {produto} à equipe de compras, temos apenas {unidades} em estoque\"\n",
        "\n",
        "Exemplo: Se o usuário preenche os inputs com: bebidas, dolly, 90, o programa não deve exibir nenhuma mensagem.<br>\n",
        "Agora, se o usuário preenche os inputs com: bebidas, guaraná, 60, o programa deve exibir a mensagem \"Solicitar guaraná à equipe de compras, temos apenas 60 unidades em estoque.\n",
        "\n",
        "Obs: lembre de usar o int() para transformar o número inserido pelo usuário no input de string para int.<br>\n",
        "Obs2: Caso o usuário não preencha alguma das 3 informações, o programa deve exibir uma mensagem para avisá-lo de preencher corretamente."
      ],
      "metadata": {
        "id": "iek_F9frjZQE"
      }
    },
    {
      "cell_type": "code",
      "source": [
        "produto = input('Qual o produto? ')\n",
        "categoria = input('Qual a categoria do produto? ')\n",
        "quantidade = input('Qual a quantidade atual do produto? ')\n",
        "\n",
        "if not produto or not categoria or not quantidade:\n",
        "    print(\"Preencha todas as informações corretamente.\")\n",
        "else:\n",
        "    quantidade = int(quantidade)\n",
        "    if categoria == 'alimentos':\n",
        "        if quantidade < 50:\n",
        "            print(f\"Solicitar {produto} à equipe de compras, temos apenas {quantidade} unidades em estoque\")\n",
        "    elif categoria == 'bebidas':\n",
        "        if quantidade < 75:\n",
        "            print(f\"Solicitar {produto} à equipe de compras, temos apenas {quantidade} unidades em estoque\")\n",
        "    elif categoria == 'limpeza':\n",
        "        if quantidade < 30:\n",
        "            print(f\"Solicitar {produto} à equipe de compras, temos apenas {quantidade} unidades em estoque\")\n",
        "    else:\n",
        "        print(\"Categoria inválida.\")"
      ],
      "metadata": {
        "id": "X1V8uxNGjc7j",
        "colab": {
          "base_uri": "https://localhost:8080/"
        },
        "outputId": "a8ebba4b-68ef-4d27-dcad-0c140686e02a"
      },
      "execution_count": null,
      "outputs": [
        {
          "output_type": "stream",
          "name": "stdout",
          "text": [
            "Qual o produto? Whisky Macallan\n",
            "Qual a categoria do produto? bebidas\n",
            "Qual a quantidade atual do produto? 2\n",
            "Solicitar Whisky Macallan à equipe de compras, temos apenas 2 unidades em estoque\n"
          ]
        }
      ]
    }
  ]
}