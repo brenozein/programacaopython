{
  "nbformat": 4,
  "nbformat_minor": 0,
  "metadata": {
    "colab": {
      "provenance": []
    },
    "kernelspec": {
      "name": "python3",
      "display_name": "Python 3"
    },
    "language_info": {
      "name": "python"
    }
  },
  "cells": [
    {
      "cell_type": "markdown",
      "metadata": {
        "id": "ZKFp66PrOFEX"
      },
      "source": [
        "# Exercícios\n",
        "\n",
        "## 1. Input até o usuário parar\n",
        "\n",
        "Vamos criar um sistema de vendas. Nosso programa deve registrar os produtos e as quantidades (2 inputs) e adicionar em uma lista.\n",
        "\n",
        "O programa deve continuar rodando até o input ser vazio, ou seja, o usuário apertar enter sem digitar nenhum produto ou quantidade.\n",
        "\n",
        "Ao final do programa, ele deve printar todos os produtos e quantidades vendidas.\n",
        "\n",
        "Obs: Caso queira, para o print ficar mais visual, pode usar o join para cada item ser printado em uma linha.\n",
        "Sugestão para sua lista de produtos vendidos:"
      ]
    },
    {
      "cell_type": "raw",
      "metadata": {
        "id": "aift-VRLOFEa"
      },
      "source": [
        "vendas = [\n",
        "    ['maçã', 5],\n",
        "    ['banana', 15],\n",
        "    ['azeite', 1],\n",
        "    ['vinho', 3],\n",
        "]"
      ]
    },
    {
      "cell_type": "code",
      "execution_count": 2,
      "metadata": {
        "id": "kVKtMg-cOFEa",
        "colab": {
          "base_uri": "https://localhost:8080/"
        },
        "outputId": "2d41ab9b-53b5-4755-84c2-e3a5432d074a"
      },
      "outputs": [
        {
          "output_type": "stream",
          "name": "stdout",
          "text": [
            "Digite o nome do produto (ou aperte Enter para finalizar): Cenoura\n",
            "Digite a quantidade vendida de Cenoura: 10\n",
            "Digite o nome do produto (ou aperte Enter para finalizar): Carne\n",
            "Digite a quantidade vendida de Carne: 2\n",
            "Digite o nome do produto (ou aperte Enter para finalizar): Ovo\n",
            "Digite a quantidade vendida de Ovo: 20\n",
            "Digite o nome do produto (ou aperte Enter para finalizar): Banana\n",
            "Digite a quantidade vendida de Banana: 12\n",
            "Digite o nome do produto (ou aperte Enter para finalizar): \n",
            "\n",
            "--- Produtos Vendidos ---\n",
            "Cenoura: 10\n",
            "Carne: 2\n",
            "Ovo: 20\n",
            "Banana: 12\n"
          ]
        }
      ],
      "source": [
        "produtos_vendidos = []\n",
        "\n",
        "while True:\n",
        "  produto = input(\"Digite o nome do produto (ou aperte Enter para finalizar): \")\n",
        "  if not produto:\n",
        "    break\n",
        "\n",
        "  while True:\n",
        "    try:\n",
        "      quantidade = int(input(f\"Digite a quantidade vendida de {produto}: \"))\n",
        "      if quantidade < 0:\n",
        "        print(\"Quantidade inválida. Digite um número inteiro positivo.\")\n",
        "        continue\n",
        "      break\n",
        "    except ValueError:\n",
        "      print(\"Quantidade inválida. Digite um número inteiro.\")\n",
        "\n",
        "  produtos_vendidos.append((produto, quantidade))\n",
        "\n",
        "print(\"\\n--- Produtos Vendidos ---\")\n",
        "for produto, quantidade in produtos_vendidos:\n",
        "  print(f\"{produto}: {quantidade}\")\n"
      ]
    },
    {
      "cell_type": "markdown",
      "source": [
        "## **2 - Dados Viciados**\n",
        "Descrição:\n",
        "Crie um simulador de dados com 6 faces que o usuário pode jogar digitando \"jogar\". Mas... tem um detalhe! O dado sempre favorece o número 6.\n",
        "\n",
        "Regras:\n",
        "\n",
        "Use um loop while para continuar jogando até o usuário digitar \"sair\".\n",
        "\n",
        "Mostre o número \"sorteado\".\n",
        "\n",
        "Faça o número 6 aparecer com mais frequência que os outros.\n",
        "\n"
      ],
      "metadata": {
        "id": "AemouudlOh3W"
      }
    },
    {
      "cell_type": "markdown",
      "source": [],
      "metadata": {
        "id": "vU8hk0_cOuy8"
      }
    },
    {
      "cell_type": "code",
      "source": [
        "\n",
        "import random\n",
        "def jogar_dado_viciado():\n",
        "\n",
        "    if random.random() < 0.3:\n",
        "        return 6\n",
        "    else:\n",
        "        return random.randint(1, 5)\n",
        "\n",
        "while True:\n",
        "    acao = input('Digite \"jogar\" para lançar o dado ou \"sair\" para sair: ')\n",
        "    if acao.lower() == 'sair':\n",
        "        break\n",
        "    elif acao.lower() == 'jogar':\n",
        "        resultado = jogar_dado_viciado()\n",
        "        print(f\"O resultado do dado foi: {resultado}\")\n",
        "    else:\n",
        "        print('Comando inválido. Digite \"jogar\" ou \"sair\".')\n"
      ],
      "metadata": {
        "id": "ZQMIOVJ-Ovbj",
        "colab": {
          "base_uri": "https://localhost:8080/"
        },
        "outputId": "154c5646-7beb-43fa-c892-bf6cad425b38"
      },
      "execution_count": 4,
      "outputs": [
        {
          "name": "stdout",
          "output_type": "stream",
          "text": [
            "Digite \"jogar\" para lançar o dado ou \"sair\" para sair: jogar\n",
            "O resultado do dado foi: 5\n",
            "Digite \"jogar\" para lançar o dado ou \"sair\" para sair: jogar\n",
            "O resultado do dado foi: 4\n",
            "Digite \"jogar\" para lançar o dado ou \"sair\" para sair: jogar\n",
            "O resultado do dado foi: 4\n",
            "Digite \"jogar\" para lançar o dado ou \"sair\" para sair: jogar\n",
            "O resultado do dado foi: 6\n",
            "Digite \"jogar\" para lançar o dado ou \"sair\" para sair: sair\n"
          ]
        }
      ]
    },
    {
      "cell_type": "markdown",
      "source": [
        "### **3 - Quiz Interativo**\n",
        "Descrição:\n",
        "Monte um pequeno quiz com perguntas e múltiplas alternativas.\n",
        "\n",
        "Regras:\n",
        "\n",
        "O programa faz 3 a 5 perguntas com 3 opções cada.\n",
        "\n",
        "O jogador digita a letra da resposta (a, b, c).\n",
        "\n",
        "No final, mostre quantas ele acertou."
      ],
      "metadata": {
        "id": "Z9QuTDvOOwRT"
      }
    },
    {
      "cell_type": "code",
      "source": [
        "def quiz_interativo():\n",
        "    print(\"Bem-vindo ao Quiz Interativo!\")\n",
        "    print(\"Responda as perguntas abaixo com as opções (a, b ou c).\")\n",
        "\n",
        "    perguntas = [\n",
        "        {\n",
        "            \"pergunta\": \"1. Quem foi o primeiro imperador do Brasil?\",\n",
        "            \"opcoes\": {\"a\": \"Dom Pedro I\", \"b\": \"Dom João VI\", \"c\": \"Getúlio Vargas\"},\n",
        "            \"resposta_certa\": \"a\"\n",
        "        },\n",
        "        {\n",
        "            \"pergunta\": \"2. Qual foi o principal motivo da Segunda Guerra Mundial?\",\n",
        "            \"opcoes\": {\"a\": \"Expansão territorial da Alemanha\", \"b\": \"Conflitos no Oriente Médio\", \"c\": \"Revolução Russa\"},\n",
        "            \"resposta_certa\": \"a\"\n",
        "        },\n",
        "        {\n",
        "            \"pergunta\": \"3. Qual é o maior país do mundo em área?\",\n",
        "            \"opcoes\": {\"a\": \"Estados Unidos\", \"b\": \"Brasil\", \"c\": \"Rússia\"},\n",
        "            \"resposta_certa\": \"c\"\n",
        "        },\n",
        "        {\n",
        "            \"pergunta\": \"4. Qual é a distância média da Terra ao Sol?\",\n",
        "            \"opcoes\": {\"a\": \"150.000 km\", \"b\": \"150 milhões de km\", \"c\": \"1 milhão de km\"},\n",
        "            \"resposta_certa\": \"b\"\n",
        "        },\n",
        "        {\n",
        "            \"pergunta\": \"5. Quem é o personagem principal do jogo Diablo?\",\n",
        "            \"opcoes\": {\"a\": \"Baal\", \"b\": \"Deckard Cain\", \"c\": \"O Três\"},\n",
        "            \"resposta_certa\": \"c\"\n",
        "        }\n",
        "    ]\n",
        "\n",
        "    score = 0\n",
        "    for pergunta in perguntas:\n",
        "        print(pergunta[\"pergunta\"])\n",
        "        for chave, valor in pergunta[\"opcoes\"].items():\n",
        "            print(f\"{chave}: {valor}\")\n",
        "\n",
        "        resposta = input(\"Sua resposta (a, b, c): \").lower()\n",
        "\n",
        "        if resposta == pergunta[\"resposta_certa\"]:\n",
        "            print(\"Resposta certa!\\n\")\n",
        "            score += 1\n",
        "        else:\n",
        "            print(\"Resposta errada!\\n\")\n",
        "\n",
        "    print(f\"Você acertou {score} de {len(perguntas)} perguntas!\")\n",
        "\n",
        "quiz_interativo()\n"
      ],
      "metadata": {
        "colab": {
          "base_uri": "https://localhost:8080/"
        },
        "id": "ZKyPPysLM1XY",
        "outputId": "42e1e760-670d-48ea-e462-e3ea25251bee"
      },
      "execution_count": 5,
      "outputs": [
        {
          "output_type": "stream",
          "name": "stdout",
          "text": [
            "Bem-vindo ao Quiz Interativo!\n",
            "Responda as perguntas abaixo com as opções (a, b ou c).\n",
            "1. Quem foi o primeiro imperador do Brasil?\n",
            "a: Dom Pedro I\n",
            "b: Dom João VI\n",
            "c: Getúlio Vargas\n",
            "Sua resposta (a, b, c): a\n",
            "Resposta certa!\n",
            "\n",
            "2. Qual foi o principal motivo da Segunda Guerra Mundial?\n",
            "a: Expansão territorial da Alemanha\n",
            "b: Conflitos no Oriente Médio\n",
            "c: Revolução Russa\n",
            "Sua resposta (a, b, c): b\n",
            "Resposta errada!\n",
            "\n",
            "3. Qual é o maior país do mundo em área?\n",
            "a: Estados Unidos\n",
            "b: Brasil\n",
            "c: Rússia\n",
            "Sua resposta (a, b, c): c\n",
            "Resposta certa!\n",
            "\n",
            "4. Qual é a distância média da Terra ao Sol?\n",
            "a: 150.000 km\n",
            "b: 150 milhões de km\n",
            "c: 1 milhão de km\n",
            "Sua resposta (a, b, c): b\n",
            "Resposta certa!\n",
            "\n",
            "5. Quem é o personagem principal do jogo Diablo?\n",
            "a: Baal\n",
            "b: Deckard Cain\n",
            "c: O Três\n",
            "Sua resposta (a, b, c): c\n",
            "Resposta certa!\n",
            "\n",
            "Você acertou 4 de 5 perguntas!\n"
          ]
        }
      ]
    },
    {
      "cell_type": "markdown",
      "source": [
        "### **🕵️‍♀️ Desafio de Lógica: Crie o Jogo da Forca!**\n",
        "🎮 Contexto:\n",
        "Você foi contratado por uma empresa de jogos retrô para desenvolver uma versão digital do clássico Jogo da Forca. Seu desafio é programar esse jogo usando o que você aprendeu até agora: laços for e while, listas, strings, variáveis e condicionais.\n",
        "\n",
        "A ideia é criar um jogo totalmente jogável pelo terminal, onde o jogador deve adivinhar uma palavra secreta chutando letras, uma de cada vez. Se errar demais, perde. Se acertar tudo, vence!\n",
        "\n",
        "🧩 O que seu jogo deve fazer:\n",
        "Escolher uma palavra secreta (você pode definir uma fixa por enquanto).\n",
        "\n",
        "Mostrar ao jogador os espaços da palavra como \"_\" (uma para cada letra).\n",
        "\n",
        "Permitir que o jogador chute uma letra por vez.\n",
        "\n",
        "Revelar as letras corretas no lugar certo.\n",
        "\n",
        "Diminuir o número de tentativas a cada erro.\n",
        "\n",
        "Encerrar o jogo com uma mensagem de vitória ou derrota.\n",
        "\n",
        "💡 Regras do jogo:\n",
        "O jogador tem um número limitado de tentativas.\n",
        "\n",
        "O jogo acaba quando o jogador acerta todas as letras ou quando errar demais.\n",
        "\n",
        "O jogo deve rodar em loop, pedindo novas letras enquanto o jogo não terminar.\n",
        "\n",
        "🧠 Dica de pensamento lógico:\n",
        "Como você pode mostrar a palavra sendo \"revelada\" aos poucos?\n",
        "\n",
        "Como controlar o número de tentativas?\n",
        "\n",
        "Como repetir a checagem da letra com um loop?\n",
        "\n",
        "🏁 Objetivo final:\n",
        "Crie uma experiência simples e divertida! Quando terminar, teste com colegas: será que eles conseguem adivinhar a palavra que você escolheu?\n",
        "\n"
      ],
      "metadata": {
        "id": "E2z98DkROKq0"
      }
    },
    {
      "cell_type": "code",
      "source": [
        "import random\n",
        "\n",
        "def jogo_da_forca():\n",
        "    palavras = [\"python\", \"diablo\", \"historia\", \"universo\", \"guerra\"]\n",
        "    palavra_secreta = random.choice(palavras)\n",
        "    tentativas = 6\n",
        "    letras_corretas = [\"_\"] * len(palavra_secreta)\n",
        "    letras_erradas = []\n",
        "\n",
        "    print(\"Bem-vindo ao Jogo da Forca!\")\n",
        "    print(\"A palavra secreta tem\", len(palavra_secreta), \"letras.\")\n",
        "\n",
        "    while tentativas > 0 and \"_\" in letras_corretas:\n",
        "        print(\"\\nPalavra: \", \" \".join(letras_corretas))\n",
        "        print(f\"Tentativas restantes: {tentativas}\")\n",
        "        print(\"Letras erradas: \", \" \".join(letras_erradas))\n",
        "\n",
        "        letra = input(\"Digite uma letra: \").lower()\n",
        "\n",
        "        if len(letra) != 1 or not letra.isalpha():\n",
        "            print(\"Por favor, digite apenas uma letra.\")\n",
        "            continue\n",
        "\n",
        "        if letra in letras_erradas or letra in letras_corretas:\n",
        "            print(\"Você já tentou essa letra!\")\n",
        "            continue\n",
        "\n",
        "        if letra in palavra_secreta:\n",
        "            print(\"Você acertou uma letra!\")\n",
        "            for i in range(len(palavra_secreta)):\n",
        "                if palavra_secreta[i] == letra:\n",
        "                    letras_corretas[i] = letra\n",
        "        else:\n",
        "            tentativas -= 1\n",
        "            letras_erradas.append(letra)\n",
        "            print(\"Letra errada!\")\n",
        "\n",
        "    if \"_\" not in letras_corretas:\n",
        "        print(\"\\nParabéns, você acertou a palavra:\", palavra_secreta)\n",
        "    else:\n",
        "        print(f\"\\nVocê perdeu! A palavra era: {palavra_secreta}\")\n",
        "\n",
        "jogo_da_forca()\n"
      ],
      "metadata": {
        "id": "lOpKdL8lOOnj",
        "colab": {
          "base_uri": "https://localhost:8080/"
        },
        "outputId": "535a4635-93b8-4d70-e777-ae2bdf7a4f9c"
      },
      "execution_count": 6,
      "outputs": [
        {
          "output_type": "stream",
          "name": "stdout",
          "text": [
            "Bem-vindo ao Jogo da Forca!\n",
            "A palavra secreta tem 8 letras.\n",
            "\n",
            "Palavra:  _ _ _ _ _ _ _ _\n",
            "Tentativas restantes: 6\n",
            "Letras erradas:  \n",
            "Digite uma letra: A\n",
            "Você acertou uma letra!\n",
            "\n",
            "Palavra:  _ _ _ _ _ _ _ a\n",
            "Tentativas restantes: 6\n",
            "Letras erradas:  \n",
            "Digite uma letra: H\n",
            "Você acertou uma letra!\n",
            "\n",
            "Palavra:  h _ _ _ _ _ _ a\n",
            "Tentativas restantes: 6\n",
            "Letras erradas:  \n",
            "Digite uma letra: historia\n",
            "Por favor, digite apenas uma letra.\n",
            "\n",
            "Palavra:  h _ _ _ _ _ _ a\n",
            "Tentativas restantes: 6\n",
            "Letras erradas:  \n",
            "Digite uma letra: i\n",
            "Você acertou uma letra!\n",
            "\n",
            "Palavra:  h i _ _ _ _ i a\n",
            "Tentativas restantes: 6\n",
            "Letras erradas:  \n",
            "Digite uma letra: t\n",
            "Você acertou uma letra!\n",
            "\n",
            "Palavra:  h i _ t _ _ i a\n",
            "Tentativas restantes: 6\n",
            "Letras erradas:  \n",
            "Digite uma letra: s\n",
            "Você acertou uma letra!\n",
            "\n",
            "Palavra:  h i s t _ _ i a\n",
            "Tentativas restantes: 6\n",
            "Letras erradas:  \n",
            "Digite uma letra: o\n",
            "Você acertou uma letra!\n",
            "\n",
            "Palavra:  h i s t o _ i a\n",
            "Tentativas restantes: 6\n",
            "Letras erradas:  \n",
            "Digite uma letra: r\n",
            "Você acertou uma letra!\n",
            "\n",
            "Parabéns, você acertou a palavra: historia\n"
          ]
        }
      ]
    },
    {
      "cell_type": "markdown",
      "source": [],
      "metadata": {
        "id": "PyWuN2R9OO0i"
      }
    }
  ]
}